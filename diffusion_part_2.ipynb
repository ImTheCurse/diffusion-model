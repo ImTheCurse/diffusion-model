{
 "cells": [
  {
   "cell_type": "markdown",
   "id": "1574d07d",
   "metadata": {},
   "source": [
    "### Imports"
   ]
  },
  {
   "cell_type": "code",
   "execution_count": null,
   "id": "975c23a0",
   "metadata": {},
   "outputs": [],
   "source": [
    "!pip install diffusers[\"torch\"] transformers\n",
    "!pip install torchvision\n",
    "!pip install matplotlib"
   ]
  },
  {
   "cell_type": "code",
   "execution_count": null,
   "id": "a21a7930",
   "metadata": {},
   "outputs": [],
   "source": [
    "import os\n",
    "import torch\n",
    "import torch.nn.functional as F\n",
    "from torch import nn\n",
    "from torch.utils.data import DataLoader\n",
    "from torch.amp import GradScaler, autocast\n",
    "from torchvision import transforms, utils\n",
    "from diffusers import UNet2DModel\n",
    "from tqdm import tqdm\n",
    "import matplotlib.pyplot as plt"
   ]
  },
  {
   "cell_type": "code",
   "execution_count": 3,
   "id": "6cdfb170",
   "metadata": {},
   "outputs": [],
   "source": [
    "isTrain = False"
   ]
  },
  {
   "cell_type": "markdown",
   "id": "395a04d3",
   "metadata": {},
   "source": [
    "### VAE Implementation \n",
    "We're going to try and implement a working VAE without the adverserial approach. The theory behind it is mostly the same, but the loss function does not include any adverserial terms.\n",
    "\n",
    "### Architecture\n",
    "This time we tried a bigger latent dimension of 256, to try and capture the image better. We kept the amount of 3 downblocks, but added normalization to each block, and more filters compared to the previous implementation."
   ]
  },
  {
   "cell_type": "code",
   "execution_count": 6,
   "id": "0ea98261",
   "metadata": {},
   "outputs": [],
   "source": [
    "class TinyVAE(nn.Module):\n",
    "    def __init__(self, in_channels=3, latent_dim=256):\n",
    "        super().__init__()\n",
    "        self.latent_dim = latent_dim\n",
    "        #Output Size = (Input Size - Kernel Size + 2 * Padding) / Stride + 1.\n",
    "        self.encoder = nn.Sequential(\n",
    "            nn.Conv2d(in_channels, 64, 4, 2, 1), # 32x32 -> 16x16\n",
    "            nn.GroupNorm(32, 64),\n",
    "            nn.ReLU(),\n",
    "            nn.Conv2d(64, 128, 4, 2, 1), # 16x16 -> 8x8\n",
    "            nn.GroupNorm(32, 128),\n",
    "            nn.ReLU(),\n",
    "            nn.Conv2d(128, 256, 4, 2, 1), # 8x8 -> 4x4\n",
    "            nn.GroupNorm(32, 256),\n",
    "            nn.ReLU()\n",
    "        )\n",
    "\n",
    "        self.flatten = nn.Flatten()\n",
    "        self.mean = nn.Linear(256*4*4,latent_dim)\n",
    "        self.logvar = nn.Linear(256*4*4,latent_dim)\n",
    "        nn.init.constant_(self.logvar.bias, -4.0)\n",
    "\n",
    "        self.z_proj = nn.Linear(latent_dim, 256 * 4 * 4)\n",
    "\n",
    "\n",
    "        self.decoder = nn.Sequential(\n",
    "            nn.ConvTranspose2d(256, 256, 4, 2, 1), \n",
    "            nn.GroupNorm(32, 256),\n",
    "            nn.ReLU(),\n",
    "            nn.ConvTranspose2d(256, 128, 4, 2, 1),\n",
    "            nn.GroupNorm(32, 128),\n",
    "            nn.ReLU(),\n",
    "            nn.ConvTranspose2d(128, 64, 4, 2, 1),\n",
    "            nn.GroupNorm(32, 64),\n",
    "            nn.ReLU(),\n",
    "            nn.Conv2d(64, in_channels, kernel_size=3, padding=1),\n",
    "            nn.Tanh() # value between -1 and 1\n",
    "        )\n",
    "\n",
    "    def reparameterize(self, mu, logvar):\n",
    "        std = torch.exp(0.5 * logvar)\n",
    "        eps = torch.randn_like(std)\n",
    "        return mu + eps * std\n",
    "\n",
    "    def encode(self,x):\n",
    "        latent = self.encoder(x)\n",
    "        latent_flat = self.flatten(latent)\n",
    "        logvar = self.logvar(latent_flat)\n",
    "        mean = self.mean(latent_flat)\n",
    "        return mean,logvar\n",
    "\n",
    "    def decode(self,latent):\n",
    "        x = self.z_proj(latent).view(-1, 256, 4, 4)\n",
    "        img = self.decoder(x)\n",
    "        return img\n",
    "\n",
    "    def forward(self,x):\n",
    "        mean,logvar = self.encode(x)\n",
    "        z = self.reparameterize(mean,logvar)\n",
    "        x_hat = self.decode(z)\n",
    "\n",
    "        return x_hat,mean,logvar\n",
    "\n",
    "    def reconstruction_loss(self,x_hat,x):\n",
    "         return F.mse_loss(x_hat, x, reduction='mean')\n",
    "\n",
    "    def kl_divergence_loss(self, mean, logvar):\n",
    "        return 0.5 * (mean.pow(2) + logvar.exp() - 1 - logvar).sum(dim=1).mean()\n",
    "\n",
    "    def vector_to_feature(self, z_vec):\n",
    "        return self.z_proj(z_vec).view(-1, 256, 4, 4)          \n",
    "\n",
    "    def feature_to_image(self, z_feat):\n",
    "        return self.decoder(z_feat)                            \n"
   ]
  },
  {
   "cell_type": "markdown",
   "id": "f3639aaa",
   "metadata": {},
   "source": [
    "### Training + Gamma regularization for KL term\n",
    "We linearly ramp a “capacity” C from 0 up to a maximum (10 nats) over 20 epochs, then at each step we apply a heavy penalty (γ = 150) on the gap (C – KL) whenever KL < C (and drop γ to 0 once KL ≥ C), so that the model is forced to use exactly that much latent information—it gently pushes KL up to the current budget and then stops penalizing, helping avoid posterior collapse and control information flow in the VAE.\n",
    "\n",
    "A nat is simply an information‐theoretic unit based on the natural logarithm: one nat is the amount of information you gain when an event of probability 1/e occurs, and in general the self‑information of an event with probability p is −ln p nats. In more familiar “bit” units, 1 nat ≃ 1.44 bits."
   ]
  },
  {
   "cell_type": "code",
   "execution_count": 7,
   "id": "a7823901",
   "metadata": {},
   "outputs": [],
   "source": [
    "def train_epoch(model,dataloader,opt_ae, device, epoch):\n",
    "    model.train()\n",
    "    total_ae_loss = 0\n",
    "    loop = tqdm(dataloader,desc='Training...', leave=True)\n",
    "\n",
    "    for x, _ in loop:\n",
    "        x = x.to(device)\n",
    "\n",
    "        # Forward pass\n",
    "        x_hat, mu, logvar = model(x)\n",
    "\n",
    "        recon_loss = model.reconstruction_loss(x_hat,x)\n",
    "        kl_loss = model.kl_divergence_loss(mu, logvar)\n",
    "\n",
    "        C_max = 10.0          # aim for 10 nats by the end\n",
    "        C_inc = C_max / 20    # reach it in 20 epochs\n",
    "        C     = min(C_max, epoch * C_inc)\n",
    "\n",
    "        gamma = 150.0         \n",
    "        if kl_loss > C - 0.1:      \n",
    "            gamma = 0.0\n",
    "        loss  = recon_loss + gamma * torch.clamp(C - kl_loss, min=0)\n",
    "        opt_ae.zero_grad()\n",
    "        loss.backward()\n",
    "        torch.nn.utils.clip_grad_norm_(model.parameters(), 1.0)\n",
    "        opt_ae.step()\n",
    "\n",
    "        total_ae_loss += loss.item()\n",
    "\n",
    "        with torch.no_grad():\n",
    "            mu_abs  = mu.abs().mean().item()\n",
    "            logvar_mean = logvar.mean().item()\n",
    "\n",
    "        loop.set_postfix(\n",
    "            recon = f'{recon_loss:.4f}',\n",
    "            kl    = f'{kl_loss:.4f}',\n",
    "            μ   = f'{mu_abs:.4f}',\n",
    "            logσ2 = f'{logvar_mean:.4f}',\n",
    ")\n",
    "    return total_ae_loss / len(dataloader)"
   ]
  },
  {
   "cell_type": "code",
   "execution_count": 8,
   "id": "43439679",
   "metadata": {},
   "outputs": [],
   "source": [
    "def plot_ae_loss(train_losses):\n",
    "    epochs = list(range(1, len(train_losses) + 1))\n",
    "    plt.figure(figsize=(10, 6))\n",
    "    plt.plot(epochs, train_losses, marker='o', label='AE Loss')\n",
    "    plt.title('Autoencoder Training Loss over Epochs')\n",
    "    plt.xlabel('Epoch')\n",
    "    plt.ylabel('Average AE Loss')\n",
    "    plt.grid(True)\n",
    "    plt.legend()\n",
    "    plt.tight_layout()\n",
    "    plt.show()"
   ]
  },
  {
   "cell_type": "markdown",
   "id": "c68dd83f",
   "metadata": {},
   "source": [
    "### Preparing the dataset once again"
   ]
  },
  {
   "cell_type": "code",
   "execution_count": 10,
   "id": "163537c9",
   "metadata": {},
   "outputs": [],
   "source": [
    "transform = transforms.Compose([\n",
    "    transforms.RandomHorizontalFlip(p=0.5),         # 50% chance to flip left-right\n",
    "    transforms.ToTensor(),                          # Convert to tensor\n",
    "    transforms.Normalize((0.5, 0.5, 0.5),            # Normalize RGB channels to [-1, 1]\n",
    "                         (0.5, 0.5, 0.5))\n",
    "])"
   ]
  },
  {
   "cell_type": "code",
   "execution_count": 11,
   "id": "cabfc0f1",
   "metadata": {},
   "outputs": [],
   "source": [
    "from torchvision.datasets import CIFAR100\n",
    "\n",
    "train_dataset = CIFAR100(\n",
    "    root='./data',\n",
    "    train=True,\n",
    "    download=True,\n",
    "    transform=transform\n",
    ")\n",
    "\n",
    "dataloader = DataLoader(\n",
    "    train_dataset,\n",
    "    batch_size=32,\n",
    "    shuffle=True,\n",
    "    num_workers=4,\n",
    "    pin_memory=True\n",
    ")"
   ]
  },
  {
   "cell_type": "markdown",
   "id": "84aeda2a",
   "metadata": {},
   "source": [
    "#### Training Parameters"
   ]
  },
  {
   "cell_type": "code",
   "execution_count": 12,
   "id": "15c625ee",
   "metadata": {},
   "outputs": [],
   "source": [
    "device = \"cuda\"\n",
    "model = TinyVAE()\n",
    "model.to(device=device)\n",
    "\n",
    "opt_ae = torch.optim.Adam(model.parameters(), lr=1e-3)\n",
    "epochs = 60\n",
    "ae_losses = []\n"
   ]
  },
  {
   "cell_type": "markdown",
   "id": "0acbb48e",
   "metadata": {},
   "source": [
    "#### Training"
   ]
  },
  {
   "cell_type": "code",
   "execution_count": null,
   "id": "f524a2d1",
   "metadata": {},
   "outputs": [
    {
     "name": "stdout",
     "output_type": "stream",
     "text": [
      "[in epoch 1/60]\n"
     ]
    },
    {
     "name": "stderr",
     "output_type": "stream",
     "text": [
      "Training...: 100%|██████████| 1563/1563 [00:18<00:00, 82.72it/s, kl=5491.1699, logσ2=-15.0909, recon=0.0460, μ=4.1210]      \n"
     ]
    },
    {
     "name": "stdout",
     "output_type": "stream",
     "text": [
      "[01] VAE Loss: 0.0829\n",
      "[in epoch 2/60]\n"
     ]
    },
    {
     "name": "stderr",
     "output_type": "stream",
     "text": [
      "Training...: 100%|██████████| 1563/1563 [00:18<00:00, 84.14it/s, kl=6225.1943, logσ2=-16.7210, recon=0.0294, μ=4.2835] \n"
     ]
    },
    {
     "name": "stdout",
     "output_type": "stream",
     "text": [
      "[02] VAE Loss: 0.0345\n",
      "[in epoch 3/60]\n"
     ]
    },
    {
     "name": "stderr",
     "output_type": "stream",
     "text": [
      "Training...: 100%|██████████| 1563/1563 [00:18<00:00, 85.35it/s, kl=7065.9946, logσ2=-17.9580, recon=0.0193, μ=4.6893] \n"
     ]
    },
    {
     "name": "stdout",
     "output_type": "stream",
     "text": [
      "[03] VAE Loss: 0.0249\n",
      "[in epoch 4/60]\n"
     ]
    },
    {
     "name": "stderr",
     "output_type": "stream",
     "text": [
      "Training...: 100%|██████████| 1563/1563 [00:28<00:00, 54.51it/s, kl=6986.3999, logσ2=-18.7842, recon=0.0172, μ=4.5287]\n"
     ]
    },
    {
     "name": "stdout",
     "output_type": "stream",
     "text": [
      "[04] VAE Loss: 0.0208\n",
      "[in epoch 5/60]\n"
     ]
    },
    {
     "name": "stderr",
     "output_type": "stream",
     "text": [
      "Training...: 100%|██████████| 1563/1563 [00:30<00:00, 51.84it/s, kl=7396.0215, logσ2=-19.2173, recon=0.0178, μ=4.6396]\n"
     ]
    },
    {
     "name": "stdout",
     "output_type": "stream",
     "text": [
      "[05] VAE Loss: 0.0185\n",
      "[in epoch 6/60]\n"
     ]
    },
    {
     "name": "stderr",
     "output_type": "stream",
     "text": [
      "Training...: 100%|██████████| 1563/1563 [00:30<00:00, 51.98it/s, kl=7905.6460, logσ2=-19.4557, recon=0.0143, μ=4.8627]\n"
     ]
    },
    {
     "name": "stdout",
     "output_type": "stream",
     "text": [
      "[06] VAE Loss: 0.0166\n",
      "[in epoch 7/60]\n"
     ]
    },
    {
     "name": "stderr",
     "output_type": "stream",
     "text": [
      "Training...: 100%|██████████| 1563/1563 [00:29<00:00, 52.42it/s, kl=8376.3125, logσ2=-19.5902, recon=0.0136, μ=4.8721]\n"
     ]
    },
    {
     "name": "stdout",
     "output_type": "stream",
     "text": [
      "[07] VAE Loss: 0.0153\n",
      "[in epoch 8/60]\n"
     ]
    },
    {
     "name": "stderr",
     "output_type": "stream",
     "text": [
      "Training...: 100%|██████████| 1563/1563 [00:30<00:00, 51.86it/s, kl=8480.4990, logσ2=-19.8230, recon=0.0135, μ=4.8781]\n"
     ]
    },
    {
     "name": "stdout",
     "output_type": "stream",
     "text": [
      "[08] VAE Loss: 0.0142\n",
      "[in epoch 9/60]\n"
     ]
    },
    {
     "name": "stderr",
     "output_type": "stream",
     "text": [
      "Training...: 100%|██████████| 1563/1563 [00:29<00:00, 52.32it/s, kl=8056.1064, logσ2=-19.7156, recon=0.0136, μ=4.7197]\n"
     ]
    },
    {
     "name": "stdout",
     "output_type": "stream",
     "text": [
      "[09] VAE Loss: 0.0133\n",
      "[in epoch 10/60]\n"
     ]
    },
    {
     "name": "stderr",
     "output_type": "stream",
     "text": [
      "Training...: 100%|██████████| 1563/1563 [00:29<00:00, 52.38it/s, kl=8563.9287, logσ2=-19.6467, recon=0.0090, μ=4.9079]\n"
     ]
    },
    {
     "name": "stdout",
     "output_type": "stream",
     "text": [
      "[10] VAE Loss: 0.0126\n",
      "[in epoch 11/60]\n"
     ]
    },
    {
     "name": "stderr",
     "output_type": "stream",
     "text": [
      "Training...: 100%|██████████| 1563/1563 [00:29<00:00, 52.74it/s, kl=8473.7637, logσ2=-19.9630, recon=0.0125, μ=4.9882]\n"
     ]
    },
    {
     "name": "stdout",
     "output_type": "stream",
     "text": [
      "[11] VAE Loss: 0.0119\n",
      "[in epoch 12/60]\n"
     ]
    },
    {
     "name": "stderr",
     "output_type": "stream",
     "text": [
      "Training...: 100%|██████████| 1563/1563 [00:30<00:00, 51.49it/s, kl=8685.7852, logσ2=-19.7660, recon=0.0122, μ=5.0747]\n"
     ]
    },
    {
     "name": "stdout",
     "output_type": "stream",
     "text": [
      "[12] VAE Loss: 0.0114\n",
      "[in epoch 13/60]\n"
     ]
    },
    {
     "name": "stderr",
     "output_type": "stream",
     "text": [
      "Training...: 100%|██████████| 1563/1563 [00:19<00:00, 79.98it/s, kl=9174.7754, logσ2=-19.5703, recon=0.0093, μ=5.2157] \n"
     ]
    },
    {
     "name": "stdout",
     "output_type": "stream",
     "text": [
      "[13] VAE Loss: 0.0109\n",
      "[in epoch 14/60]\n"
     ]
    },
    {
     "name": "stderr",
     "output_type": "stream",
     "text": [
      "Training...: 100%|██████████| 1563/1563 [00:23<00:00, 66.70it/s, kl=9552.8828, logσ2=-19.5314, recon=0.0100, μ=5.2617]\n"
     ]
    },
    {
     "name": "stdout",
     "output_type": "stream",
     "text": [
      "[14] VAE Loss: 0.0106\n",
      "[in epoch 15/60]\n"
     ]
    },
    {
     "name": "stderr",
     "output_type": "stream",
     "text": [
      "Training...: 100%|██████████| 1563/1563 [00:30<00:00, 51.85it/s, kl=9649.6309, logσ2=-19.6573, recon=0.0100, μ=5.1287]\n"
     ]
    },
    {
     "name": "stdout",
     "output_type": "stream",
     "text": [
      "[15] VAE Loss: 0.0103\n",
      "[in epoch 16/60]\n"
     ]
    },
    {
     "name": "stderr",
     "output_type": "stream",
     "text": [
      "Training...: 100%|██████████| 1563/1563 [00:30<00:00, 52.08it/s, kl=9666.5156, logσ2=-19.8240, recon=0.0102, μ=5.3448]\n"
     ]
    },
    {
     "name": "stdout",
     "output_type": "stream",
     "text": [
      "[16] VAE Loss: 0.0101\n",
      "[in epoch 17/60]\n"
     ]
    },
    {
     "name": "stderr",
     "output_type": "stream",
     "text": [
      "Training...: 100%|██████████| 1563/1563 [00:30<00:00, 51.65it/s, kl=9485.2695, logσ2=-20.0126, recon=0.0103, μ=5.3810] \n"
     ]
    },
    {
     "name": "stdout",
     "output_type": "stream",
     "text": [
      "[17] VAE Loss: 0.0099\n",
      "[in epoch 18/60]\n"
     ]
    },
    {
     "name": "stderr",
     "output_type": "stream",
     "text": [
      "Training...: 100%|██████████| 1563/1563 [00:29<00:00, 52.36it/s, kl=9689.4531, logσ2=-19.8068, recon=0.0087, μ=5.2729] \n"
     ]
    },
    {
     "name": "stdout",
     "output_type": "stream",
     "text": [
      "[18] VAE Loss: 0.0097\n",
      "[in epoch 19/60]\n"
     ]
    },
    {
     "name": "stderr",
     "output_type": "stream",
     "text": [
      "Training...: 100%|██████████| 1563/1563 [00:29<00:00, 52.31it/s, kl=9832.2285, logσ2=-19.7388, recon=0.0109, μ=5.4146] \n"
     ]
    },
    {
     "name": "stdout",
     "output_type": "stream",
     "text": [
      "[19] VAE Loss: 0.0095\n",
      "[in epoch 20/60]\n"
     ]
    },
    {
     "name": "stderr",
     "output_type": "stream",
     "text": [
      "Training...: 100%|██████████| 1563/1563 [00:29<00:00, 52.41it/s, kl=10193.4795, logσ2=-19.7355, recon=0.0086, μ=5.4867]\n"
     ]
    },
    {
     "name": "stdout",
     "output_type": "stream",
     "text": [
      "[20] VAE Loss: 0.0094\n",
      "[in epoch 21/60]\n"
     ]
    },
    {
     "name": "stderr",
     "output_type": "stream",
     "text": [
      "Training...: 100%|██████████| 1563/1563 [00:30<00:00, 51.49it/s, kl=9972.1660, logσ2=-19.6532, recon=0.0105, μ=5.4690] \n"
     ]
    },
    {
     "name": "stdout",
     "output_type": "stream",
     "text": [
      "[21] VAE Loss: 0.0092\n",
      "[in epoch 22/60]\n"
     ]
    },
    {
     "name": "stderr",
     "output_type": "stream",
     "text": [
      "Training...: 100%|██████████| 1563/1563 [00:30<00:00, 51.95it/s, kl=10721.0693, logσ2=-19.5631, recon=0.0068, μ=5.5659]\n"
     ]
    },
    {
     "name": "stdout",
     "output_type": "stream",
     "text": [
      "[22] VAE Loss: 0.0091\n",
      "[in epoch 23/60]\n"
     ]
    },
    {
     "name": "stderr",
     "output_type": "stream",
     "text": [
      "Training...: 100%|██████████| 1563/1563 [00:18<00:00, 82.32it/s, kl=11107.8594, logσ2=-19.3245, recon=0.0097, μ=5.6341] \n"
     ]
    },
    {
     "name": "stdout",
     "output_type": "stream",
     "text": [
      "[23] VAE Loss: 0.0090\n",
      "[in epoch 24/60]\n"
     ]
    },
    {
     "name": "stderr",
     "output_type": "stream",
     "text": [
      "Training...: 100%|██████████| 1563/1563 [00:18<00:00, 84.70it/s, kl=10778.0693, logσ2=-19.6222, recon=0.0086, μ=5.6766] \n"
     ]
    },
    {
     "name": "stdout",
     "output_type": "stream",
     "text": [
      "[24] VAE Loss: 0.0089\n",
      "[in epoch 25/60]\n"
     ]
    },
    {
     "name": "stderr",
     "output_type": "stream",
     "text": [
      "Training...: 100%|██████████| 1563/1563 [00:27<00:00, 55.93it/s, kl=10853.6387, logσ2=-19.5886, recon=0.0113, μ=5.7478]\n"
     ]
    },
    {
     "name": "stdout",
     "output_type": "stream",
     "text": [
      "[25] VAE Loss: 0.0088\n",
      "[in epoch 26/60]\n"
     ]
    },
    {
     "name": "stderr",
     "output_type": "stream",
     "text": [
      "Training...: 100%|██████████| 1563/1563 [00:29<00:00, 52.15it/s, kl=10771.7344, logσ2=-19.8064, recon=0.0094, μ=5.6548]\n"
     ]
    },
    {
     "name": "stdout",
     "output_type": "stream",
     "text": [
      "[26] VAE Loss: 0.0088\n",
      "[in epoch 27/60]\n"
     ]
    },
    {
     "name": "stderr",
     "output_type": "stream",
     "text": [
      "Training...: 100%|██████████| 1563/1563 [00:26<00:00, 60.00it/s, kl=10933.7383, logσ2=-19.8214, recon=0.0092, μ=5.7808] \n"
     ]
    },
    {
     "name": "stdout",
     "output_type": "stream",
     "text": [
      "[27] VAE Loss: 0.0087\n",
      "[in epoch 28/60]\n"
     ]
    },
    {
     "name": "stderr",
     "output_type": "stream",
     "text": [
      "Training...: 100%|██████████| 1563/1563 [00:23<00:00, 66.36it/s, kl=11268.2539, logσ2=-19.6716, recon=0.0083, μ=5.8866]\n"
     ]
    },
    {
     "name": "stdout",
     "output_type": "stream",
     "text": [
      "[28] VAE Loss: 0.0086\n",
      "[in epoch 29/60]\n"
     ]
    },
    {
     "name": "stderr",
     "output_type": "stream",
     "text": [
      "Training...: 100%|██████████| 1563/1563 [00:29<00:00, 52.43it/s, kl=11526.1855, logσ2=-19.5109, recon=0.0081, μ=5.8441]\n"
     ]
    },
    {
     "name": "stdout",
     "output_type": "stream",
     "text": [
      "[29] VAE Loss: 0.0085\n",
      "[in epoch 30/60]\n"
     ]
    },
    {
     "name": "stderr",
     "output_type": "stream",
     "text": [
      "Training...: 100%|██████████| 1563/1563 [00:30<00:00, 52.00it/s, kl=11719.9062, logσ2=-19.8094, recon=0.0108, μ=6.1225]\n"
     ]
    },
    {
     "name": "stdout",
     "output_type": "stream",
     "text": [
      "[30] VAE Loss: 0.0085\n",
      "[in epoch 31/60]\n"
     ]
    },
    {
     "name": "stderr",
     "output_type": "stream",
     "text": [
      "Training...: 100%|██████████| 1563/1563 [00:25<00:00, 60.71it/s, kl=11908.2803, logσ2=-19.5654, recon=0.0096, μ=6.1498] \n"
     ]
    },
    {
     "name": "stdout",
     "output_type": "stream",
     "text": [
      "[31] VAE Loss: 0.0084\n",
      "[in epoch 32/60]\n"
     ]
    },
    {
     "name": "stderr",
     "output_type": "stream",
     "text": [
      "Training...: 100%|██████████| 1563/1563 [00:18<00:00, 83.32it/s, kl=11920.2637, logσ2=-19.7875, recon=0.0080, μ=6.0187] \n"
     ]
    },
    {
     "name": "stdout",
     "output_type": "stream",
     "text": [
      "[32] VAE Loss: 0.0084\n",
      "[in epoch 33/60]\n"
     ]
    },
    {
     "name": "stderr",
     "output_type": "stream",
     "text": [
      "Training...: 100%|██████████| 1563/1563 [00:25<00:00, 61.22it/s, kl=12154.9824, logσ2=-19.6302, recon=0.0080, μ=6.1447]\n"
     ]
    },
    {
     "name": "stdout",
     "output_type": "stream",
     "text": [
      "[33] VAE Loss: 0.0083\n",
      "[in epoch 34/60]\n"
     ]
    },
    {
     "name": "stderr",
     "output_type": "stream",
     "text": [
      "Training...: 100%|██████████| 1563/1563 [00:29<00:00, 52.43it/s, kl=12465.4414, logσ2=-19.3526, recon=0.0067, μ=6.0610]\n"
     ]
    },
    {
     "name": "stdout",
     "output_type": "stream",
     "text": [
      "[34] VAE Loss: 0.0083\n",
      "[in epoch 35/60]\n"
     ]
    },
    {
     "name": "stderr",
     "output_type": "stream",
     "text": [
      "Training...: 100%|██████████| 1563/1563 [00:29<00:00, 52.14it/s, kl=12067.3672, logσ2=-19.5436, recon=0.0073, μ=6.0106]\n"
     ]
    },
    {
     "name": "stdout",
     "output_type": "stream",
     "text": [
      "[35] VAE Loss: 0.0082\n",
      "[in epoch 36/60]\n"
     ]
    },
    {
     "name": "stderr",
     "output_type": "stream",
     "text": [
      "Training...: 100%|██████████| 1563/1563 [00:29<00:00, 52.26it/s, kl=12565.7783, logσ2=-19.5905, recon=0.0112, μ=6.4555]\n"
     ]
    },
    {
     "name": "stdout",
     "output_type": "stream",
     "text": [
      "[36] VAE Loss: 0.0082\n",
      "[in epoch 37/60]\n"
     ]
    },
    {
     "name": "stderr",
     "output_type": "stream",
     "text": [
      "Training...: 100%|██████████| 1563/1563 [00:29<00:00, 52.33it/s, kl=12705.7852, logσ2=-19.2794, recon=0.0078, μ=6.3504]\n"
     ]
    },
    {
     "name": "stdout",
     "output_type": "stream",
     "text": [
      "[37] VAE Loss: 0.0082\n",
      "[in epoch 38/60]\n"
     ]
    },
    {
     "name": "stderr",
     "output_type": "stream",
     "text": [
      "Training...: 100%|██████████| 1563/1563 [00:25<00:00, 61.96it/s, kl=12904.4736, logσ2=-19.5689, recon=0.0080, μ=6.4350] \n"
     ]
    },
    {
     "name": "stdout",
     "output_type": "stream",
     "text": [
      "[38] VAE Loss: 0.0081\n",
      "[in epoch 39/60]\n"
     ]
    },
    {
     "name": "stderr",
     "output_type": "stream",
     "text": [
      "Training...: 100%|██████████| 1563/1563 [00:28<00:00, 55.65it/s, kl=12548.4395, logσ2=-19.6835, recon=0.0085, μ=6.4860]\n"
     ]
    },
    {
     "name": "stdout",
     "output_type": "stream",
     "text": [
      "[39] VAE Loss: 0.0081\n",
      "[in epoch 40/60]\n"
     ]
    },
    {
     "name": "stderr",
     "output_type": "stream",
     "text": [
      "Training...: 100%|██████████| 1563/1563 [00:29<00:00, 52.34it/s, kl=13009.3379, logσ2=-19.3428, recon=0.0092, μ=6.3649]\n"
     ]
    },
    {
     "name": "stdout",
     "output_type": "stream",
     "text": [
      "[40] VAE Loss: 0.0080\n",
      "[in epoch 41/60]\n"
     ]
    },
    {
     "name": "stderr",
     "output_type": "stream",
     "text": [
      "Training...: 100%|██████████| 1563/1563 [00:30<00:00, 51.33it/s, kl=13304.3613, logσ2=-19.3603, recon=0.0074, μ=6.4699]\n"
     ]
    },
    {
     "name": "stdout",
     "output_type": "stream",
     "text": [
      "[41] VAE Loss: 0.0080\n",
      "[in epoch 42/60]\n"
     ]
    },
    {
     "name": "stderr",
     "output_type": "stream",
     "text": [
      "Training...: 100%|██████████| 1563/1563 [00:19<00:00, 80.99it/s, kl=13478.0996, logσ2=-19.0565, recon=0.0079, μ=6.5085] \n"
     ]
    },
    {
     "name": "stdout",
     "output_type": "stream",
     "text": [
      "[42] VAE Loss: 0.0080\n",
      "[in epoch 43/60]\n"
     ]
    },
    {
     "name": "stderr",
     "output_type": "stream",
     "text": [
      "Training...: 100%|██████████| 1563/1563 [00:25<00:00, 61.87it/s, kl=13535.3779, logσ2=-19.3991, recon=0.0062, μ=6.5480]\n"
     ]
    },
    {
     "name": "stdout",
     "output_type": "stream",
     "text": [
      "[43] VAE Loss: 0.0079\n",
      "[in epoch 44/60]\n"
     ]
    },
    {
     "name": "stderr",
     "output_type": "stream",
     "text": [
      "Training...: 100%|██████████| 1563/1563 [00:29<00:00, 52.21it/s, kl=14021.6777, logσ2=-19.0799, recon=0.0065, μ=6.7414]\n"
     ]
    },
    {
     "name": "stdout",
     "output_type": "stream",
     "text": [
      "[44] VAE Loss: 0.0079\n",
      "[in epoch 45/60]\n"
     ]
    },
    {
     "name": "stderr",
     "output_type": "stream",
     "text": [
      "Training...: 100%|██████████| 1563/1563 [00:29<00:00, 52.61it/s, kl=13877.7578, logσ2=-19.1131, recon=0.0078, μ=6.5496]\n"
     ]
    },
    {
     "name": "stdout",
     "output_type": "stream",
     "text": [
      "[45] VAE Loss: 0.0079\n",
      "[in epoch 46/60]\n"
     ]
    },
    {
     "name": "stderr",
     "output_type": "stream",
     "text": [
      "Training...: 100%|██████████| 1563/1563 [00:29<00:00, 52.24it/s, kl=14402.8184, logσ2=-19.2855, recon=0.0092, μ=6.7939]\n"
     ]
    },
    {
     "name": "stdout",
     "output_type": "stream",
     "text": [
      "[46] VAE Loss: 0.0078\n",
      "[in epoch 47/60]\n"
     ]
    },
    {
     "name": "stderr",
     "output_type": "stream",
     "text": [
      "Training...: 100%|██████████| 1563/1563 [00:24<00:00, 63.23it/s, kl=14573.3164, logσ2=-19.0526, recon=0.0069, μ=6.6912] \n"
     ]
    },
    {
     "name": "stdout",
     "output_type": "stream",
     "text": [
      "[47] VAE Loss: 0.0078\n",
      "[in epoch 48/60]\n"
     ]
    },
    {
     "name": "stderr",
     "output_type": "stream",
     "text": [
      "Training...: 100%|██████████| 1563/1563 [00:18<00:00, 84.92it/s, kl=14553.8330, logσ2=-19.3486, recon=0.0080, μ=6.9362] \n"
     ]
    },
    {
     "name": "stdout",
     "output_type": "stream",
     "text": [
      "[48] VAE Loss: 0.0078\n",
      "[in epoch 49/60]\n"
     ]
    },
    {
     "name": "stderr",
     "output_type": "stream",
     "text": [
      "Training...: 100%|██████████| 1563/1563 [00:28<00:00, 54.92it/s, kl=15065.2148, logσ2=-19.4582, recon=0.0094, μ=7.0995]\n"
     ]
    },
    {
     "name": "stdout",
     "output_type": "stream",
     "text": [
      "[49] VAE Loss: 0.0078\n",
      "[in epoch 50/60]\n"
     ]
    },
    {
     "name": "stderr",
     "output_type": "stream",
     "text": [
      "Training...: 100%|██████████| 1563/1563 [00:30<00:00, 51.77it/s, kl=14538.6250, logσ2=-19.2800, recon=0.0085, μ=7.0475]\n"
     ]
    },
    {
     "name": "stdout",
     "output_type": "stream",
     "text": [
      "[50] VAE Loss: 0.0077\n",
      "[in epoch 51/60]\n"
     ]
    },
    {
     "name": "stderr",
     "output_type": "stream",
     "text": [
      "Training...: 100%|██████████| 1563/1563 [00:30<00:00, 52.04it/s, kl=15222.1699, logσ2=-19.2534, recon=0.0065, μ=6.9458]\n"
     ]
    },
    {
     "name": "stdout",
     "output_type": "stream",
     "text": [
      "[51] VAE Loss: 0.0077\n",
      "[in epoch 52/60]\n"
     ]
    },
    {
     "name": "stderr",
     "output_type": "stream",
     "text": [
      "Training...: 100%|██████████| 1563/1563 [00:25<00:00, 60.97it/s, kl=15364.3574, logσ2=-19.3226, recon=0.0080, μ=7.2728]\n"
     ]
    },
    {
     "name": "stdout",
     "output_type": "stream",
     "text": [
      "[52] VAE Loss: 0.0077\n",
      "[in epoch 53/60]\n"
     ]
    },
    {
     "name": "stderr",
     "output_type": "stream",
     "text": [
      "Training...: 100%|██████████| 1563/1563 [00:30<00:00, 51.93it/s, kl=15229.5020, logσ2=-19.1721, recon=0.0081, μ=7.2220]\n"
     ]
    },
    {
     "name": "stdout",
     "output_type": "stream",
     "text": [
      "[53] VAE Loss: 0.0077\n",
      "[in epoch 54/60]\n"
     ]
    },
    {
     "name": "stderr",
     "output_type": "stream",
     "text": [
      "Training...: 100%|██████████| 1563/1563 [00:30<00:00, 51.53it/s, kl=15212.7383, logσ2=-19.0509, recon=0.0065, μ=6.9991]\n"
     ]
    },
    {
     "name": "stdout",
     "output_type": "stream",
     "text": [
      "[54] VAE Loss: 0.0076\n",
      "[in epoch 55/60]\n"
     ]
    },
    {
     "name": "stderr",
     "output_type": "stream",
     "text": [
      "Training...: 100%|██████████| 1563/1563 [00:29<00:00, 52.15it/s, kl=15384.1768, logσ2=-19.0026, recon=0.0069, μ=7.1055]\n"
     ]
    },
    {
     "name": "stdout",
     "output_type": "stream",
     "text": [
      "[55] VAE Loss: 0.0076\n",
      "[in epoch 56/60]\n"
     ]
    },
    {
     "name": "stderr",
     "output_type": "stream",
     "text": [
      "Training...: 100%|██████████| 1563/1563 [00:22<00:00, 70.99it/s, kl=16186.3340, logσ2=-18.9301, recon=0.0088, μ=7.2621] \n"
     ]
    },
    {
     "name": "stdout",
     "output_type": "stream",
     "text": [
      "[56] VAE Loss: 0.0076\n",
      "[in epoch 57/60]\n"
     ]
    },
    {
     "name": "stderr",
     "output_type": "stream",
     "text": [
      "Training...: 100%|██████████| 1563/1563 [00:28<00:00, 54.54it/s, kl=16024.7256, logσ2=-19.0578, recon=0.0073, μ=7.1563]\n"
     ]
    },
    {
     "name": "stdout",
     "output_type": "stream",
     "text": [
      "[57] VAE Loss: 0.0076\n",
      "[in epoch 58/60]\n"
     ]
    },
    {
     "name": "stderr",
     "output_type": "stream",
     "text": [
      "Training...: 100%|██████████| 1563/1563 [00:30<00:00, 51.40it/s, kl=16402.4102, logσ2=-18.8178, recon=0.0071, μ=7.2460]\n"
     ]
    },
    {
     "name": "stdout",
     "output_type": "stream",
     "text": [
      "[58] VAE Loss: 0.0076\n",
      "[in epoch 59/60]\n"
     ]
    },
    {
     "name": "stderr",
     "output_type": "stream",
     "text": [
      "Training...: 100%|██████████| 1563/1563 [00:23<00:00, 66.48it/s, kl=16410.6445, logσ2=-19.1390, recon=0.0077, μ=7.3205] \n"
     ]
    },
    {
     "name": "stdout",
     "output_type": "stream",
     "text": [
      "[59] VAE Loss: 0.0076\n",
      "[in epoch 60/60]\n"
     ]
    },
    {
     "name": "stderr",
     "output_type": "stream",
     "text": [
      "Training...: 100%|██████████| 1563/1563 [00:18<00:00, 84.85it/s, kl=16389.6074, logσ2=-19.0830, recon=0.0083, μ=7.4848] "
     ]
    },
    {
     "name": "stdout",
     "output_type": "stream",
     "text": [
      "[60] VAE Loss: 0.0075\n"
     ]
    },
    {
     "name": "stderr",
     "output_type": "stream",
     "text": [
      "\n"
     ]
    }
   ],
   "source": [
    "if isTrain:\n",
    "    for epoch in range(1, epochs+1):\n",
    "        print(f\"[in epoch {epoch}/{epochs}]\")\n",
    "        ae_loss = train_epoch(model, dataloader, opt_ae, device, epoch - 1)\n",
    "        ae_losses.append(ae_loss)\n",
    "        print(f\"[{epoch:02d}] VAE Loss: {ae_loss:.4f}\")\n"
   ]
  },
  {
   "cell_type": "code",
   "execution_count": 72,
   "id": "7e2cc7ea",
   "metadata": {},
   "outputs": [
    {
     "data": {
      "image/png": "[encoded data removed]",
      "text/plain": [
       "<Figure size 1000x600 with 1 Axes>"
      ]
     },
     "metadata": {},
     "output_type": "display_data"
    }
   ],
   "source": [
    "plot_ae_loss(ae_losses)"
   ]
  },
  {
   "cell_type": "code",
   "execution_count": 13,
   "id": "bf91c102",
   "metadata": {},
   "outputs": [],
   "source": [
    "def show_reconstruction(model, dataset, device):\n",
    "    model.eval()  # encoder & decoder both fine in eval when using GroupNorm\n",
    "\n",
    "    # inverse of Normalize((0.5,0.5,0.5), (0.5,0.5,0.5))\n",
    "    denorm = lambda t: t * 0.5 + 0.5   # [-1,1] → [0,1]\n",
    "\n",
    "    # pick a random CIFAR‑sample\n",
    "    idx = torch.randint(0, len(dataset), ()).item()\n",
    "    x, _ = dataset[idx]          # tensor in [-1,1]\n",
    "    x = x.unsqueeze(0).to(device)\n",
    "\n",
    "    with torch.no_grad():\n",
    "        x_hat, _, _ = model(x)   # forward pass\n",
    "\n",
    "    # prepare for display\n",
    "    x_vis     = denorm(x.squeeze().cpu())       # (C,H,W) → [0,1]\n",
    "    x_hat_vis = denorm(x_hat.squeeze().cpu())\n",
    "\n",
    "    # plot\n",
    "    fig, ax = plt.subplots(1, 2, figsize=(6, 3))\n",
    "    ax[0].imshow(x_vis.permute(1, 2, 0));     ax[0].set_title('Original');       ax[0].axis('off')\n",
    "    ax[1].imshow(x_hat_vis.permute(1, 2, 0)); ax[1].set_title('Reconstruction'); ax[1].axis('off')\n",
    "    plt.tight_layout();  plt.show()"
   ]
  },
  {
   "cell_type": "code",
   "execution_count": 17,
   "id": "d03c776f",
   "metadata": {},
   "outputs": [
    {
     "data": {
      "image/png": "[encoded data removed]",
      "text/plain": [
       "<Figure size 600x300 with 2 Axes>"
      ]
     },
     "metadata": {},
     "output_type": "display_data"
    }
   ],
   "source": [
    "if not isTrain:\n",
    "    checkpoint = torch.load(\"./checkpoints/vae_e060.pt\")\n",
    "    model.load_state_dict(checkpoint['model_state'])\n",
    "\n",
    "show_reconstruction(model, train_dataset, device)"
   ]
  },
  {
   "cell_type": "code",
   "execution_count": null,
   "id": "b92a02f3",
   "metadata": {},
   "outputs": [],
   "source": [
    "def save_checkpoint(model, optimizer, epoch, loss, path):\n",
    "    ckpt = {\n",
    "        \"epoch\": epoch,                 \n",
    "        \"loss\" : loss,                  \n",
    "        \"model_state\": model.state_dict(),\n",
    "        \"optim_state\": optimizer.state_dict(),\n",
    "    }\n",
    "    os.makedirs(os.path.dirname(path), exist_ok=True)\n",
    "    torch.save(ckpt, path)\n",
    "\n",
    "if isTrain:\n",
    "    save_checkpoint(model, opt_ae, 60, ae_losses[59], path=f\"checkpoints/vae_e{epoch:03d}.pt\")"
   ]
  },
  {
   "cell_type": "markdown",
   "id": "c440ce3d",
   "metadata": {},
   "source": [
    "### VAE Conclusion\n",
    "In the end, we're happy to get some pretty good results!\n",
    "We will now attempt to once again implement the full latent diffusion process, using our own VAE.\n"
   ]
  },
  {
   "cell_type": "markdown",
   "id": "93a8fa77",
   "metadata": {},
   "source": [
    "### Implementing Latent Diffusion using our TinyVAE and UNet2DModel"
   ]
  },
  {
   "cell_type": "markdown",
   "id": "92168f68",
   "metadata": {},
   "source": [
    "#### Load the VAE model"
   ]
  },
  {
   "cell_type": "code",
   "execution_count": null,
   "id": "b2f0ba4b",
   "metadata": {},
   "outputs": [],
   "source": [
    "vae_weights_path = \"./checkpoints/vae_e060.pt\"\n",
    "\n",
    "checkpoint = torch.load(vae_weights_path)\n",
    "model.load_state_dict(checkpoint['model_state'])"
   ]
  },
  {
   "cell_type": "markdown",
   "id": "8d923f33",
   "metadata": {},
   "source": [
    "#### UNet model\n",
    "We once again use hugging face's UNet2DModel to quickly test our VAE model. We aim to also implement our own UNet in the following chapters.\n",
    "We also make sure that the UNet's input matches our latent space (256 -> 256x4x4)"
   ]
  },
  {
   "cell_type": "code",
   "execution_count": 50,
   "id": "4e289b0e",
   "metadata": {},
   "outputs": [],
   "source": [
    "unet = UNet2DModel(\n",
    "    in_channels=256,\n",
    "    out_channels=256,\n",
    "    sample_size=4,\n",
    "    block_out_channels = (256,512),\n",
    "    down_block_types=(\"DownBlock2D\", \"DownBlock2D\"),\n",
    "    up_block_types=(\"UpBlock2D\", \"UpBlock2D\"),\n",
    ")\n",
    "unet.to('cuda')\n",
    "unet.enable_gradient_checkpointing()"
   ]
  },
  {
   "cell_type": "markdown",
   "id": "e907f709",
   "metadata": {},
   "source": [
    "#### Diffusion Process\n",
    "This is the same model we used in part 1. The only difference is that we had to match our TinyVAE in inference and training by using the \"feature_to_image\" and \"vector_to_feature\" functions of our model to correctly use the latent space in terms of sizing."
   ]
  },
  {
   "cell_type": "code",
   "execution_count": null,
   "id": "ba8d07e2",
   "metadata": {},
   "outputs": [],
   "source": [
    "class LatentDiffusion(nn.Module):\n",
    "    def __init__(self, vae: TinyVAE, unet: UNet2DModel,\n",
    "                 timesteps=1000, beta_start=1e-4, beta_end=0.02, device='cuda', scaling_factor=1):\n",
    "        super().__init__()\n",
    "        self.vae = vae\n",
    "        self.vae.eval()                \n",
    "        for p in self.vae.parameters(): # Freeze VAE\n",
    "            p.requires_grad_(False)\n",
    "        self.unet = unet\n",
    "        self.timesteps = timesteps\n",
    "        self.device = device\n",
    "        self.scaling_factor = scaling_factor\n",
    "        # linear noise timesteps\n",
    "        betas = torch.linspace(beta_start, beta_end, timesteps)\n",
    "        self.register_buffer(\"betas\", betas)\n",
    "        self.register_buffer(\"alphas\", 1. - betas)\n",
    "        self.register_buffer(\"alpha_hat\", torch.cumprod(1. - betas, dim=0))\n",
    "        self.register_buffer(\"sigmas\", torch.sqrt(betas))"
   ]
  },
  {
   "cell_type": "code",
   "execution_count": 52,
   "id": "e78c68ac",
   "metadata": {},
   "outputs": [],
   "source": [
    "def q_sample(self, z0, t):\n",
    "    noise = torch.randn_like(z0)\n",
    "    mean = self.alpha_hat[t].sqrt().view(-1,1,1,1) * z0\n",
    "    deviation = (1 - self.alpha_hat[t]).sqrt().view(-1,1,1,1)\n",
    "    return mean + deviation*noise, noise\n",
    "\n",
    "LatentDiffusion.q_sample = q_sample"
   ]
  },
  {
   "cell_type": "code",
   "execution_count": 53,
   "id": "d042f66d",
   "metadata": {},
   "outputs": [],
   "source": [
    "def loss(self, imgs, t):\n",
    "    with torch.no_grad():\n",
    "        mu, logvar = self.vae.encode(imgs)                     \n",
    "        z_vec = self.vae.reparameterize(mu, logvar)            \n",
    "        z_feat = self.vae.vector_to_feature(z_vec)             \n",
    "        z_feat = z_feat * self.scaling_factor                  \n",
    "\n",
    "    z_t, noise = self.q_sample(z_feat, t)                      \n",
    "    noise_pred = self.unet(z_t, t).sample                      \n",
    "    return F.mse_loss(noise_pred, noise)\n",
    "\n",
    "\n",
    "LatentDiffusion.loss = loss"
   ]
  },
  {
   "cell_type": "code",
   "execution_count": 54,
   "id": "fd74ad70",
   "metadata": {},
   "outputs": [],
   "source": [
    "def forward(self, imgs):\n",
    "        batch = imgs.size(0)\n",
    "        t = torch.randint(0, self.timesteps, (batch,), device=self.device)\n",
    "        return self.loss(imgs, t)   \n",
    "\n",
    "LatentDiffusion.forward = forward"
   ]
  },
  {
   "cell_type": "code",
   "execution_count": null,
   "id": "b406f768",
   "metadata": {},
   "outputs": [],
   "source": [
    "@torch.no_grad()\n",
    "def generate(self, batch_size=1):\n",
    "    z = torch.randn(batch_size,\n",
    "                    self.unet.in_channels,\n",
    "                    self.unet.sample_size,\n",
    "                    self.unet.sample_size,\n",
    "                    device=self.device)                        \n",
    "\n",
    "    for i in reversed(range(self.timesteps)):\n",
    "        t = torch.full((batch_size,), i, device=self.device, dtype=torch.long)\n",
    "\n",
    "        noise_pred = self.unet(z, t).sample\n",
    "        alpha_t     = self.alphas[t].view(-1,1,1,1)\n",
    "        alpha_hat_t = self.alpha_hat[t].view(-1,1,1,1)\n",
    "        sigma_t     = self.sigmas[t].view(-1,1,1,1)\n",
    "\n",
    "        z = (z - ((1 - alpha_t) / (1 - alpha_hat_t).sqrt()) * noise_pred)\n",
    "        z = z / alpha_t.sqrt()\n",
    "        if i > 0:\n",
    "            z += sigma_t * torch.randn_like(z)\n",
    "\n",
    "    imgs = self.vae.feature_to_image(z / self.scaling_factor)  \n",
    "    imgs = (imgs.clamp(-1, 1) + 1) / 2                        \n",
    "    return imgs\n",
    "\n",
    "\n",
    "LatentDiffusion.generate = generate"
   ]
  },
  {
   "cell_type": "code",
   "execution_count": null,
   "id": "fde911d9",
   "metadata": {},
   "outputs": [],
   "source": [
    "def save_ckpt(path, model, optimizer, scaler, scheduler, epoch):\n",
    "    ckpt = {\n",
    "        \"epoch\": epoch,\n",
    "        \"model\": model.state_dict(),       \n",
    "        \"optim\": optimizer.state_dict(),\n",
    "        \"scaler\": scaler.state_dict(),\n",
    "        \"sched\": scheduler.state_dict(),\n",
    "    }\n",
    "    torch.save(ckpt, path)\n",
    "    print(f\"✅  saved checkpoint to {path} (epoch {epoch})\")\n"
   ]
  },
  {
   "cell_type": "code",
   "execution_count": null,
   "id": "ee0db5b4",
   "metadata": {},
   "outputs": [],
   "source": [
    "def load_ckpt(path, model, optimizer, scaler, scheduler, map_loc=\"cuda\"):\n",
    "    ckpt = torch.load(path, map_location=map_loc)\n",
    "    model.load_state_dict(ckpt[\"model\"])\n",
    "    optimizer.load_state_dict(ckpt[\"optim\"])\n",
    "    scaler.load_state_dict(ckpt[\"scaler\"])\n",
    "    scheduler.load_state_dict(ckpt[\"sched\"])\n",
    "    print(f\"✅ resumed from {path} (epoch {ckpt['epoch']})\")\n",
    "    return ckpt[\"epoch\"]"
   ]
  },
  {
   "cell_type": "markdown",
   "id": "adb195fe",
   "metadata": {},
   "source": [
    "#### Training\n",
    "We train the model for 100 epochs, using the same training loop as before, but this time we also save checkpoints."
   ]
  },
  {
   "cell_type": "code",
   "execution_count": null,
   "id": "a194a14e",
   "metadata": {},
   "outputs": [],
   "source": [
    "def train(model,\n",
    "          dataloader,\n",
    "          optimizer,\n",
    "          scaler,\n",
    "          scheduler,\n",
    "          start_epoch=0,\n",
    "          epochs=10,\n",
    "          ckpt_dir=\"ckpts\"):\n",
    "\n",
    "    model.train()\n",
    "    global_step = scheduler.last_epoch + 1\n",
    "\n",
    "    for epoch in range(start_epoch, start_epoch + epochs):\n",
    "        total_loss = 0\n",
    "        loop = tqdm(dataloader,\n",
    "                    desc=f\"Epoch {epoch+1}\",\n",
    "                    leave=False)\n",
    "        for imgs, _ in loop:\n",
    "            imgs = imgs.to(model.device)\n",
    "            optimizer.zero_grad(set_to_none=True)\n",
    "\n",
    "            with autocast(device_type=\"cuda\", dtype=torch.float16):\n",
    "                loss = model(imgs)\n",
    "\n",
    "            scaler.scale(loss).backward()\n",
    "            scaler.step(optimizer)\n",
    "            scaler.update()\n",
    "            scheduler.step()\n",
    "\n",
    "            total_loss += loss.item()\n",
    "            loop.set_postfix(loss=f\"{loss.item():.4f}\")\n",
    "\n",
    "        avg = total_loss / len(dataloader)\n",
    "        print(f\"ep {epoch+1:03d} | avg loss {avg:.4f}\")\n",
    "\n",
    "        save_ckpt(f\"{ckpt_dir}/diff_e{epoch+1:03d}.pt\",\n",
    "                  model, optimizer, scaler, scheduler, epoch+1)"
   ]
  },
  {
   "cell_type": "code",
   "execution_count": null,
   "id": "b4ca41eb",
   "metadata": {},
   "outputs": [],
   "source": [
    "diffusion = LatentDiffusion(model, unet, timesteps=1000, scaling_factor=0.18215)\n",
    "diffusion.to('cuda')\n",
    "\n",
    "opt = torch.optim.Adam(diffusion.unet.parameters(), lr=9e-5)\n",
    "scaler = GradScaler()\n",
    "train(diffusion, dataloader, opt, scaler, start_epoch=0, epochs=100)"
   ]
  },
  {
   "attachments": {
    "generated_imgs_v1.2_200_epoch.png": {
     "image/png": "[encoded data removed]"
    }
   },
   "cell_type": "markdown",
   "id": "f8ce75bc",
   "metadata": {},
   "source": [
    "We actually lost our training data, but we got very slow recreation loss descent, which made us believe more training would be helpful.\n",
    "These were our samples:\n",
    "![generated_imgs_v1.2_200_epoch.png](attachment:generated_imgs_v1.2_200_epoch.png)"
   ]
  },
  {
   "cell_type": "markdown",
   "id": "9cae38ce",
   "metadata": {},
   "source": [
    "#### More training"
   ]
  },
  {
   "cell_type": "code",
   "execution_count": null,
   "id": "1bad7edb",
   "metadata": {},
   "outputs": [],
   "source": [
    "start = load_ckpt(\"ckpts/diff_e010.pt\", diff, opt, scaler)\n",
    "train(diff, dataloader, opt, scaler,\n",
    "      start_epoch=start, epochs=20)"
   ]
  },
  {
   "cell_type": "markdown",
   "id": "a5578ff2",
   "metadata": {},
   "source": [
    "We lost the data for this one too.."
   ]
  },
  {
   "attachments": {
    "100_epochs_fail.png": {
     "image/png": "[encoded data removed]"
    }
   },
   "cell_type": "markdown",
   "id": "33330523",
   "metadata": {},
   "source": [
    "### Conclusion part 2\n",
    "Even with more training, we couldn't really get much better results, as we can see from this sampling:<br>\n",
    "![100_epochs_fail.png](attachment:100_epochs_fail.png)"
   ]
  }
 ],
 "metadata": {
  "kernelspec": {
   "display_name": "Python 3",
   "language": "python",
   "name": "python3"
  },
  "language_info": {
   "codemirror_mode": {
    "name": "ipython",
    "version": 3
   },
   "file_extension": ".py",
   "mimetype": "text/x-python",
   "name": "python",
   "nbconvert_exporter": "python",
   "pygments_lexer": "ipython3",
   "version": "3.10.11"
  }
 },
 "nbformat": 4,
 "nbformat_minor": 5
}
