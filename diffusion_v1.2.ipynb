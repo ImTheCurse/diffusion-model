{
 "cells": [
  {
   "cell_type": "code",
   "execution_count": null,
   "id": "afd2faf4-06c7-4b67-b1b2-4320b671c8e7",
   "metadata": {},
   "outputs": [
    {
     "name": "stdout",
     "output_type": "stream",
     "text": [
      "Looking in indexes: https://pypi.org/simple, https://pypi.ngc.nvidia.com\n",
      "Requirement already satisfied: transformers in /usr/local/lib/python3.10/dist-packages (4.53.1)\n",
      "Requirement already satisfied: diffusers[torch] in /usr/local/lib/python3.10/dist-packages (0.34.0)\n",
      "Requirement already satisfied: importlib_metadata in /usr/local/lib/python3.10/dist-packages (from diffusers[torch]) (7.0.2)\n",
      "Requirement already satisfied: filelock in /usr/local/lib/python3.10/dist-packages (from diffusers[torch]) (3.13.3)\n",
      "Requirement already satisfied: huggingface-hub>=0.27.0 in /usr/local/lib/python3.10/dist-packages (from diffusers[torch]) (0.33.2)\n",
      "Requirement already satisfied: numpy in /usr/local/lib/python3.10/dist-packages (from diffusers[torch]) (1.24.4)\n",
      "Requirement already satisfied: regex!=2019.12.17 in /usr/local/lib/python3.10/dist-packages (from diffusers[torch]) (2023.12.25)\n",
      "Requirement already satisfied: requests in /usr/local/lib/python3.10/dist-packages (from diffusers[torch]) (2.31.0)\n",
      "Requirement already satisfied: safetensors>=0.3.1 in /usr/local/lib/python3.10/dist-packages (from diffusers[torch]) (0.5.3)\n",
      "Requirement already satisfied: Pillow in /usr/local/lib/python3.10/dist-packages (from diffusers[torch]) (10.2.0)\n",
      "Requirement already satisfied: torch>=1.4 in /usr/local/lib/python3.10/dist-packages (from diffusers[torch]) (2.3.0a0+6ddf5cf85e.nv24.4)\n",
      "Requirement already satisfied: accelerate>=0.31.0 in /usr/local/lib/python3.10/dist-packages (from diffusers[torch]) (1.8.1)\n",
      "Requirement already satisfied: packaging>=20.0 in /usr/local/lib/python3.10/dist-packages (from transformers) (23.2)\n",
      "Requirement already satisfied: pyyaml>=5.1 in /usr/local/lib/python3.10/dist-packages (from transformers) (6.0.1)\n",
      "Requirement already satisfied: tokenizers<0.22,>=0.21 in /usr/local/lib/python3.10/dist-packages (from transformers) (0.21.2)\n",
      "Requirement already satisfied: tqdm>=4.27 in /usr/local/lib/python3.10/dist-packages (from transformers) (4.66.2)\n",
      "Requirement already satisfied: psutil in /usr/local/lib/python3.10/dist-packages (from accelerate>=0.31.0->diffusers[torch]) (5.9.4)\n",
      "Requirement already satisfied: fsspec>=2023.5.0 in /usr/local/lib/python3.10/dist-packages (from huggingface-hub>=0.27.0->diffusers[torch]) (2024.2.0)\n",
      "Requirement already satisfied: typing-extensions>=3.7.4.3 in /usr/local/lib/python3.10/dist-packages (from huggingface-hub>=0.27.0->diffusers[torch]) (4.10.0)\n",
      "Requirement already satisfied: hf-xet<2.0.0,>=1.1.2 in /usr/local/lib/python3.10/dist-packages (from huggingface-hub>=0.27.0->diffusers[torch]) (1.1.5)\n",
      "Requirement already satisfied: sympy in /usr/local/lib/python3.10/dist-packages (from torch>=1.4->diffusers[torch]) (1.12)\n",
      "Requirement already satisfied: networkx in /usr/local/lib/python3.10/dist-packages (from torch>=1.4->diffusers[torch]) (2.6.3)\n",
      "Requirement already satisfied: jinja2 in /usr/local/lib/python3.10/dist-packages (from torch>=1.4->diffusers[torch]) (3.1.3)\n",
      "Requirement already satisfied: zipp>=0.5 in /usr/local/lib/python3.10/dist-packages (from importlib_metadata->diffusers[torch]) (3.17.0)\n",
      "Requirement already satisfied: charset-normalizer<4,>=2 in /usr/local/lib/python3.10/dist-packages (from requests->diffusers[torch]) (3.3.2)\n",
      "Requirement already satisfied: idna<4,>=2.5 in /usr/local/lib/python3.10/dist-packages (from requests->diffusers[torch]) (3.6)\n",
      "Requirement already satisfied: urllib3<3,>=1.21.1 in /usr/local/lib/python3.10/dist-packages (from requests->diffusers[torch]) (1.26.18)\n",
      "Requirement already satisfied: certifi>=2017.4.17 in /usr/local/lib/python3.10/dist-packages (from requests->diffusers[torch]) (2024.2.2)\n",
      "Requirement already satisfied: MarkupSafe>=2.0 in /usr/local/lib/python3.10/dist-packages (from jinja2->torch>=1.4->diffusers[torch]) (2.1.5)\n",
      "Requirement already satisfied: mpmath>=0.19 in /usr/local/lib/python3.10/dist-packages (from sympy->torch>=1.4->diffusers[torch]) (1.3.0)\n",
      "\u001b[33mWARNING: Running pip as the 'root' user can result in broken permissions and conflicting behaviour with the system package manager, possibly rendering your system unusable.It is recommended to use a virtual environment instead: https://pip.pypa.io/warnings/venv. Use the --root-user-action option if you know what you are doing and want to suppress this warning.\u001b[0m\u001b[33m\n",
      "\u001b[0m\n",
      "\u001b[1m[\u001b[0m\u001b[34;49mnotice\u001b[0m\u001b[1;39;49m]\u001b[0m\u001b[39;49m A new release of pip is available: \u001b[0m\u001b[31;49m24.3.1\u001b[0m\u001b[39;49m -> \u001b[0m\u001b[32;49m25.1.1\u001b[0m\n",
      "\u001b[1m[\u001b[0m\u001b[34;49mnotice\u001b[0m\u001b[1;39;49m]\u001b[0m\u001b[39;49m To update, run: \u001b[0m\u001b[32;49mpython -m pip install --upgrade pip\u001b[0m\n",
      "Looking in indexes: https://pypi.org/simple, https://pypi.ngc.nvidia.com\n",
      "Requirement already satisfied: torchvision in /usr/local/lib/python3.10/dist-packages (0.18.0a0)\n",
      "Requirement already satisfied: numpy in /usr/local/lib/python3.10/dist-packages (from torchvision) (1.24.4)\n",
      "Requirement already satisfied: torch==2.3.0a0+6ddf5cf85e.nv24.04 in /usr/local/lib/python3.10/dist-packages (from torchvision) (2.3.0a0+6ddf5cf85e.nv24.4)\n",
      "Requirement already satisfied: pillow!=8.3.*,>=5.3.0 in /usr/local/lib/python3.10/dist-packages (from torchvision) (10.2.0)\n",
      "Requirement already satisfied: filelock in /usr/local/lib/python3.10/dist-packages (from torch==2.3.0a0+6ddf5cf85e.nv24.04->torchvision) (3.13.3)\n",
      "Requirement already satisfied: typing-extensions>=4.8.0 in /usr/local/lib/python3.10/dist-packages (from torch==2.3.0a0+6ddf5cf85e.nv24.04->torchvision) (4.10.0)\n",
      "Requirement already satisfied: sympy in /usr/local/lib/python3.10/dist-packages (from torch==2.3.0a0+6ddf5cf85e.nv24.04->torchvision) (1.12)\n",
      "Requirement already satisfied: networkx in /usr/local/lib/python3.10/dist-packages (from torch==2.3.0a0+6ddf5cf85e.nv24.04->torchvision) (2.6.3)\n",
      "Requirement already satisfied: jinja2 in /usr/local/lib/python3.10/dist-packages (from torch==2.3.0a0+6ddf5cf85e.nv24.04->torchvision) (3.1.3)\n",
      "Requirement already satisfied: fsspec in /usr/local/lib/python3.10/dist-packages (from torch==2.3.0a0+6ddf5cf85e.nv24.04->torchvision) (2024.2.0)\n",
      "Requirement already satisfied: MarkupSafe>=2.0 in /usr/local/lib/python3.10/dist-packages (from jinja2->torch==2.3.0a0+6ddf5cf85e.nv24.04->torchvision) (2.1.5)\n",
      "Requirement already satisfied: mpmath>=0.19 in /usr/local/lib/python3.10/dist-packages (from sympy->torch==2.3.0a0+6ddf5cf85e.nv24.04->torchvision) (1.3.0)\n",
      "\u001b[33mWARNING: Running pip as the 'root' user can result in broken permissions and conflicting behaviour with the system package manager, possibly rendering your system unusable.It is recommended to use a virtual environment instead: https://pip.pypa.io/warnings/venv. Use the --root-user-action option if you know what you are doing and want to suppress this warning.\u001b[0m\u001b[33m\n",
      "\u001b[0m\n",
      "\u001b[1m[\u001b[0m\u001b[34;49mnotice\u001b[0m\u001b[1;39;49m]\u001b[0m\u001b[39;49m A new release of pip is available: \u001b[0m\u001b[31;49m24.3.1\u001b[0m\u001b[39;49m -> \u001b[0m\u001b[32;49m25.1.1\u001b[0m\n",
      "\u001b[1m[\u001b[0m\u001b[34;49mnotice\u001b[0m\u001b[1;39;49m]\u001b[0m\u001b[39;49m To update, run: \u001b[0m\u001b[32;49mpython -m pip install --upgrade pip\u001b[0m\n",
      "Looking in indexes: https://pypi.org/simple, https://pypi.ngc.nvidia.com\n",
      "Requirement already satisfied: torchinfo in /usr/local/lib/python3.10/dist-packages (1.8.0)\n",
      "\u001b[33mWARNING: Running pip as the 'root' user can result in broken permissions and conflicting behaviour with the system package manager, possibly rendering your system unusable.It is recommended to use a virtual environment instead: https://pip.pypa.io/warnings/venv. Use the --root-user-action option if you know what you are doing and want to suppress this warning.\u001b[0m\u001b[33m\n",
      "\u001b[0m\n",
      "\u001b[1m[\u001b[0m\u001b[34;49mnotice\u001b[0m\u001b[1;39;49m]\u001b[0m\u001b[39;49m A new release of pip is available: \u001b[0m\u001b[31;49m24.3.1\u001b[0m\u001b[39;49m -> \u001b[0m\u001b[32;49m25.1.1\u001b[0m\n",
      "\u001b[1m[\u001b[0m\u001b[34;49mnotice\u001b[0m\u001b[1;39;49m]\u001b[0m\u001b[39;49m To update, run: \u001b[0m\u001b[32;49mpython -m pip install --upgrade pip\u001b[0m\n"
     ]
    }
   ],
   "source": [
    "!pip install diffusers[\"torch\"] transformers\n",
    "!pip install torchvision\n",
    "!pip install torchinfo\n",
    "!pip install matplotlib"
   ]
  },
  {
   "cell_type": "code",
   "execution_count": 9,
   "id": "280fb837-7d8e-4ac2-894c-7e9b2ae68bd3",
   "metadata": {},
   "outputs": [
    {
     "ename": "ModuleNotFoundError",
     "evalue": "No module named 'diffusers'",
     "output_type": "error",
     "traceback": [
      "\u001b[31m---------------------------------------------------------------------------\u001b[39m",
      "\u001b[31mModuleNotFoundError\u001b[39m                       Traceback (most recent call last)",
      "\u001b[36mCell\u001b[39m\u001b[36m \u001b[39m\u001b[32mIn[9]\u001b[39m\u001b[32m, line 7\u001b[39m\n\u001b[32m      5\u001b[39m \u001b[38;5;28;01mfrom\u001b[39;00m\u001b[38;5;250m \u001b[39m\u001b[34;01mtorch\u001b[39;00m\u001b[34;01m.\u001b[39;00m\u001b[34;01mutils\u001b[39;00m\u001b[34;01m.\u001b[39;00m\u001b[34;01mdata\u001b[39;00m\u001b[38;5;250m \u001b[39m\u001b[38;5;28;01mimport\u001b[39;00m DataLoader\n\u001b[32m      6\u001b[39m \u001b[38;5;28;01mfrom\u001b[39;00m\u001b[38;5;250m \u001b[39m\u001b[34;01mtorchvision\u001b[39;00m\u001b[38;5;250m \u001b[39m\u001b[38;5;28;01mimport\u001b[39;00m datasets, transforms, utils\n\u001b[32m----> \u001b[39m\u001b[32m7\u001b[39m \u001b[38;5;28;01mfrom\u001b[39;00m\u001b[38;5;250m \u001b[39m\u001b[34;01mdiffusers\u001b[39;00m\u001b[38;5;250m \u001b[39m\u001b[38;5;28;01mimport\u001b[39;00m UNet2DModel, AutoencoderKL\n\u001b[32m      8\u001b[39m \u001b[38;5;28;01mfrom\u001b[39;00m\u001b[38;5;250m \u001b[39m\u001b[34;01mtqdm\u001b[39;00m\u001b[38;5;250m \u001b[39m\u001b[38;5;28;01mimport\u001b[39;00m tqdm\n\u001b[32m      9\u001b[39m \u001b[38;5;28;01mfrom\u001b[39;00m\u001b[38;5;250m \u001b[39m\u001b[34;01mtorch\u001b[39;00m\u001b[34;01m.\u001b[39;00m\u001b[34;01mamp\u001b[39;00m\u001b[38;5;250m \u001b[39m\u001b[38;5;28;01mimport\u001b[39;00m GradScaler, autocast\n",
      "\u001b[31mModuleNotFoundError\u001b[39m: No module named 'diffusers'"
     ]
    }
   ],
   "source": [
    "import random\n",
    "import torch\n",
    "import torch.nn.functional as F\n",
    "from torch import nn\n",
    "from torch.utils.data import DataLoader\n",
    "from torchvision import datasets, transforms, utils\n",
    "from diffusers import UNet2DModel, AutoencoderKL\n",
    "from tqdm import tqdm\n",
    "from torch.amp import GradScaler, autocast\n",
    "import gc\n",
    "from torchinfo import summary\n",
    "from torchvision.datasets import ImageFolder\n",
    "from torchvision.datasets import Places365\n",
    "from torchvision import transforms\n",
    "from torch.utils.data import Subset\n"
   ]
  },
  {
   "cell_type": "code",
   "execution_count": 3,
   "id": "c0268c58-f0d4-4c8e-a774-b9b25875c450",
   "metadata": {},
   "outputs": [],
   "source": [
    "gc.collect()\n",
    "torch.cuda.empty_cache()\n",
    "torch.cuda.reset_peak_memory_stats()"
   ]
  },
  {
   "cell_type": "code",
   "execution_count": 4,
   "id": "0c812692-f01d-4d17-ace5-a1fe02e2d984",
   "metadata": {},
   "outputs": [
    {
     "name": "stdout",
     "output_type": "stream",
     "text": [
      "CUDA available: True\n",
      "Device: cuda\n"
     ]
    }
   ],
   "source": [
    "print(\"CUDA available:\", torch.cuda.is_available())\n",
    "print(\"Device:\", torch.device(\"cuda\" if torch.cuda.is_available() else \"cpu\"))"
   ]
  },
  {
   "cell_type": "code",
   "execution_count": 5,
   "id": "1f49c939-7c8c-405b-92f9-ca47edd4218d",
   "metadata": {},
   "outputs": [],
   "source": [
    "#vae = AutoencoderKL(\n",
    "#    in_channels=3,\n",
    "#    out_channels=3,\n",
    "#    latent_channels=4,\n",
    "#    down_block_types=[\"DownEncoderBlock2D\", \"DownEncoderBlock2D\", \"DownEncoderBlock2D\"],\n",
    "#    up_block_types=[\"UpDecoderBlock2D\", \"UpDecoderBlock2D\", \"UpDecoderBlock2D\"],\n",
    "#    block_out_channels=[64, 128, 256],\n",
    "#)\n",
    "#vae.to('cuda')\n",
    "\n",
    "vae = AutoencoderKL.from_pretrained(\"CompVis/stable-diffusion-v1-4\", subfolder=\"vae\")\n",
    "vae.to('cuda')\n",
    "\n",
    "# freeze parameters\n",
    "for param in vae.parameters():\n",
    "    param.requires_grad = False"
   ]
  },
  {
   "cell_type": "code",
   "execution_count": 6,
   "id": "8ccf4b57-1b57-4bfe-a629-297c4587dec8",
   "metadata": {},
   "outputs": [],
   "source": [
    "unet = UNet2DModel(\n",
    "    in_channels=4,\n",
    "    out_channels=4,\n",
    "    sample_size=64,\n",
    "    block_out_channels = [64, 128, 256],\n",
    "    down_block_types=[\"DownBlock2D\", \"DownBlock2D\", \"DownBlock2D\"],\n",
    "    up_block_types=[\"UpBlock2D\", \"UpBlock2D\", \"UpBlock2D\"],\n",
    ")\n",
    "unet.to('cuda')\n",
    "unet.enable_gradient_checkpointing()"
   ]
  },
  {
   "cell_type": "code",
   "execution_count": 7,
   "id": "9c2ad124-4fc2-4a12-8ad9-d525c902f0b1",
   "metadata": {},
   "outputs": [],
   "source": [
    "class LatentDiffusion(nn.Module):\n",
    "    def __init__(self, vae: AutoencoderKL, unet: UNet2DModel,\n",
    "                 timesteps=1000, beta_start=1e-4, beta_end=0.02, device='cuda', scaling_factor=0.18215):\n",
    "        super().__init__()\n",
    "        self.vae = vae\n",
    "        self.unet = unet\n",
    "        self.timesteps = timesteps\n",
    "        self.device = device\n",
    "        self.scaling_factor = 0.18215\n",
    "        # linear noise timesteps\n",
    "        betas = torch.linspace(beta_start, beta_end, timesteps)\n",
    "        self.register_buffer(\"betas\", betas)\n",
    "        self.register_buffer(\"alphas\", 1. - betas)\n",
    "        self.register_buffer(\"alpha_hat\", torch.cumprod(1. - betas, dim=0))\n",
    "        self.register_buffer(\"sigmas\", torch.sqrt(betas)) #TODO make sure we need this"
   ]
  },
  {
   "cell_type": "code",
   "execution_count": 8,
   "id": "7bb592d1-4c00-413e-aaeb-782d03c9238b",
   "metadata": {},
   "outputs": [],
   "source": [
    "def q_sample(self, z0, t):\n",
    "    noise = torch.randn_like(z0)\n",
    "    mean = self.alpha_hat[t].sqrt().view(-1,1,1,1) * z0\n",
    "    deviation = (1 - self.alpha_hat[t]).sqrt().view(-1,1,1,1)\n",
    "    return mean + deviation*noise, noise\n",
    "\n",
    "LatentDiffusion.q_sample = q_sample"
   ]
  },
  {
   "cell_type": "code",
   "execution_count": 9,
   "id": "e15acfe1-ea24-4aa5-8d52-8e7cd2da4371",
   "metadata": {},
   "outputs": [],
   "source": [
    "def loss(self, imgs, t):\n",
    "        with torch.no_grad():\n",
    "            z = self.vae.encode(imgs).latent_dist.sample() * self.scaling_factor\n",
    "        z_t, noise = self.q_sample(z, t)\n",
    "        noise_pred = self.unet(z_t, t).sample\n",
    "        return F.mse_loss(noise_pred, noise)\n",
    "\n",
    "LatentDiffusion.loss = loss"
   ]
  },
  {
   "cell_type": "code",
   "execution_count": 10,
   "id": "af3181f5-d877-4e96-8d15-a61f8e3495c6",
   "metadata": {},
   "outputs": [],
   "source": [
    "def forward(self, imgs):\n",
    "        batch = imgs.size(0)\n",
    "        t = torch.randint(0, self.timesteps, (batch,), device=self.device)\n",
    "        return self.loss(imgs, t)   \n",
    "\n",
    "LatentDiffusion.forward = forward"
   ]
  },
  {
   "cell_type": "code",
   "execution_count": 11,
   "id": "cbb8767e-8ed9-43fd-9f74-1d2870910c33",
   "metadata": {},
   "outputs": [],
   "source": [
    "@torch.no_grad()\n",
    "def generate(self, batch_size=1):\n",
    "    z = torch.randn(batch_size, self.unet.in_channels, self.unet.sample_size, self.unet.sample_size, device=self.device)\n",
    "    for i in reversed(range(self.timesteps)):\n",
    "        t = torch.full((batch_size,), i, device=self.device, dtype=torch.long)\n",
    "        noise_pred = self.unet(z, t).sample\n",
    "        alpha_t = self.alphas[t].view(-1,1,1,1)\n",
    "        alpha_hat_t = self.alpha_hat[t].view(-1,1,1,1)\n",
    "        sigma_t = self.sigmas[t].view(-1,1,1,1)\n",
    "        z = (z - ((1 - alpha_t) / (1 - alpha_hat_t).sqrt()) * noise_pred)\n",
    "        z = z / alpha_t.sqrt()\n",
    "        if i > 0:\n",
    "            z += sigma_t * torch.randn_like(z)\n",
    "    imgs = self.vae.decode((z / self.scaling_factor)).sample\n",
    "    imgs = (imgs.clamp(-1,1) + 1) / 2 # clamp back to [0,1] for pixel values\n",
    "    return imgs\n",
    "\n",
    "LatentDiffusion.generate = generate"
   ]
  },
  {
   "cell_type": "code",
   "execution_count": 12,
   "id": "33e892bc-59d1-431c-8515-d673f98b6f75",
   "metadata": {},
   "outputs": [],
   "source": [
    "def train(model, dataloader, epochs=10, lr=1e-4):\n",
    "    optimizer = torch.optim.Adam(model.unet.parameters(), lr=lr)\n",
    "    scaler = GradScaler(\"cuda\")\n",
    "    model.train()\n",
    "    for epoch in range(epochs):\n",
    "        total_loss = 0\n",
    "        loop = tqdm(dataloader, desc=f\"Epoch {epoch+1}/{epochs}\", leave=True)\n",
    "        for imgs, _ in loop:\n",
    "            imgs = imgs.to(model.device)\n",
    "            optimizer.zero_grad()\n",
    "            with autocast(device_type='cuda'):\n",
    "                loss = model(imgs)\n",
    "            scaler.scale(loss).backward()\n",
    "            scaler.step(optimizer)\n",
    "            scaler.update()\n",
    "            total_loss += loss.item()\n",
    "            loop.set_postfix(loss=loss.item())\n",
    "        print(f\"Epoch {epoch+1} | Avg Loss: {total_loss/len(dataloader):.4f}\")"
   ]
  },
  {
   "cell_type": "code",
   "execution_count": 13,
   "id": "aee44dd3-e273-4f31-88dc-565185f9f09d",
   "metadata": {},
   "outputs": [],
   "source": [
    "# 10 classes that are likely close in latent space, so we pick them as we are limited with our conpute power\n",
    "target_class_names = [\n",
    "    '/b/bedroom',\n",
    "    '/l/living_room',\n",
    "    '/d/dining_room',\n",
    "    '/k/kitchen',\n",
    "    '/h/home_office',\n",
    "    '/n/nursery',\n",
    "    '/b/bathroom',\n",
    "    '/h/hotel_room',\n",
    "    '/w/waiting_room',\n",
    "    '/c/conference_room'\n",
    "]"
   ]
  },
  {
   "cell_type": "code",
   "execution_count": 18,
   "id": "d5b65c74-09a5-4062-b729-1f15442e52cc",
   "metadata": {},
   "outputs": [
    {
     "name": "stdout",
     "output_type": "stream",
     "text": [
      "Loaded 50000 samples from 10 similar classes.\n"
     ]
    }
   ],
   "source": [
    "\n",
    "transform = transforms.Compose([\n",
    "    transforms.Resize((512, 512)),\n",
    "    transforms.ToTensor(),  # Converts to [0,1]\n",
    "    transforms.Normalize(mean=[0.5, 0.5, 0.5], std=[0.5, 0.5, 0.5])  # Normalize to [-1,1]\n",
    "])\n",
    "dataset = Places365(\n",
    "    root='~/datasets/places365',\n",
    "    split='train-standard',  # or 'val'\n",
    "    transform=transform,\n",
    "    download=True\n",
    ")\n",
    "# subset_size = int(0.05 * len(dataset))\n",
    "# subset_indices = random.sample(range(len(dataset)), subset_size)\n",
    "# subset = Subset(dataset, subset_indices)\n",
    "\n",
    "class_to_idx = {name: i for i, name in enumerate(dataset.classes)}\n",
    "target_class_indices = {class_to_idx[name] for name in target_class_names}\n",
    "\n",
    "# Filter matching samples\n",
    "subset_indices = [\n",
    "    i for i, (_, label) in enumerate(dataset.imgs)\n",
    "    if label in target_class_indices\n",
    "]\n",
    "subset = Subset(dataset, subset_indices)\n",
    "print(f\"Loaded {len(subset)} samples from 10 similar classes.\")\n",
    "\n"
   ]
  },
  {
   "cell_type": "code",
   "execution_count": 34,
   "id": "e8ecb1b1-9ba0-42c4-a7cf-777c802090f5",
   "metadata": {},
   "outputs": [],
   "source": [
    "loader = DataLoader(subset, batch_size=128, shuffle=True, num_workers=4,pin_memory=True, persistent_workers=True)\n"
   ]
  },
  {
   "cell_type": "code",
   "execution_count": null,
   "id": "f9b84207-0df2-4753-9082-df2293bdfb97",
   "metadata": {},
   "outputs": [
    {
     "name": "stderr",
     "output_type": "stream",
     "text": [
      "Epoch 1/1:  26%|██▋       | 103/391 [01:48<04:58,  1.04s/it, loss=0.134]"
     ]
    }
   ],
   "source": [
    "\n",
    "diffusion = LatentDiffusion(vae, unet, timesteps=1000)\n",
    "diffusion.to('cuda')\n",
    "train(diffusion, loader, epochs=10, lr=9e-5)\n",
    "torch.save(diffusion.state_dict(), \"diffusion_model.pt\")"
   ]
  },
  {
   "cell_type": "code",
   "execution_count": 30,
   "id": "468350c4-b9fb-4f65-8d2b-daa5b6678787",
   "metadata": {},
   "outputs": [
    {
     "name": "stderr",
     "output_type": "stream",
     "text": [
      "/tmp/ipykernel_167226/3649584245.py:3: FutureWarning: Accessing config attribute `in_channels` directly via 'UNet2DModel' object attribute is deprecated. Please access 'in_channels' over 'UNet2DModel's config object instead, e.g. 'unet.config.in_channels'.\n",
      "  z = torch.randn(batch_size, self.unet.in_channels, self.unet.sample_size, self.unet.sample_size, device=self.device)\n"
     ]
    }
   ],
   "source": [
    "samples = diffusion.generate(batch_size=4)\n",
    "grid = utils.make_grid(samples, nrow=2)\n",
    "utils.save_image(grid, 'generated_imgs_v1.2_20_epoch.png')"
   ]
  },
  {
   "cell_type": "markdown",
   "id": "48a39f2d",
   "metadata": {},
   "source": [
    "## VAE + Adversarial Implementation"
   ]
  },
  {
   "cell_type": "markdown",
   "id": "90f2f2e3",
   "metadata": {},
   "source": [
    "Since using a pre-trained VAE requires 512x512 images,training time is too long on our machines, we used some cloud machines but still takes a lot of time.\n",
    "to combat that, we are implementing and training our own tiny VAE.\n",
    "we will be following the implementation details by the paper:\n",
    "\n",
    "https://arxiv.org/pdf/2112.10752"
   ]
  },
  {
   "cell_type": "code",
   "execution_count": 1,
   "id": "6a752ad6",
   "metadata": {},
   "outputs": [],
   "source": [
    "import matplotlib.pyplot as plt\n",
    "from tqdm import tqdm\n",
    "import torch\n",
    "import torch.nn.functional as F\n",
    "from torch import nn\n",
    "from torch.utils.data import DataLoader\n",
    "from torchvision import datasets, transforms, utils\n",
    "from torch.utils.data import Subset\n",
    "import gc\n",
    "\n"
   ]
  },
  {
   "cell_type": "code",
   "execution_count": null,
   "id": "3c9384c2",
   "metadata": {},
   "outputs": [],
   "source": [
    "class TinyVAEAdversarial(nn.Module):\n",
    "    def __init__(self, in_channels=3, latent_dim=64):\n",
    "        super().__init__()\n",
    "        self.latent_dim = latent_dim\n",
    "        #Output Size = (Input Size - Kernel Size + 2 * Padding) / Stride + 1.\n",
    "        self.encoder = nn.Sequential(\n",
    "            nn.Conv2d(in_channels, 32, 4, 2, 1), # 32x32 -> 16x16\n",
    "            nn.ReLU(),\n",
    "            nn.Conv2d(32, 64, 4, 2, 1), # 16x16 -> 8x8\n",
    "            nn.ReLU(),\n",
    "            nn.Conv2d(64, 128, 4, 2, 1), # 8x8 -> 4x4\n",
    "            nn.ReLU()\n",
    "        )\n",
    "\n",
    "        self.flatten = nn.Flatten()\n",
    "        self.mean = nn.Linear(128*4*4,latent_dim)\n",
    "        self.logvar = nn.Linear(128*4*4,latent_dim)\n",
    "\n",
    "        self.z = nn.Linear(latent_dim, 128 * 4 * 4)\n",
    "\n",
    "\n",
    "        self.decoder = nn.Sequential(\n",
    "            nn.ConvTranspose2d(128, 64, 4, 2, 1), \n",
    "            nn.ReLU(),\n",
    "            nn.ConvTranspose2d(64, 32, 4, 2, 1),\n",
    "            nn.ReLU(),\n",
    "            nn.ConvTranspose2d(32, in_channels, 4, 2, 1),\n",
    "            nn.Sigmoid() # value between 0-1\n",
    "        )\n",
    "    def reparameterize(self, mu, logvar):\n",
    "        std = torch.exp(0.5 * logvar)\n",
    "        eps = torch.randn_like(std)\n",
    "        return mu + eps * std\n",
    "\n",
    "    def encode(self,x):\n",
    "        latent = self.encoder(x)\n",
    "        latent_flat = self.flatten(latent)\n",
    "        logvar = self.logvar(latent_flat)\n",
    "        mean = self.logvar(latent_flat)\n",
    "        return mean,logvar\n",
    "\n",
    "    def decode(self,latent):\n",
    "        flattened = self.z(latent).view(-1, 128, 4, 4)\n",
    "        img = self.decoder(flattened)\n",
    "        return img\n",
    "\n",
    "    def forward(self,x):\n",
    "        mean,logvar = self.encode(x)\n",
    "        z = self.reparameterize(mean,logvar)\n",
    "        x_hat = self.decode(z)\n",
    "\n",
    "        return x_hat,mean,logvar\n",
    "\n",
    "        \n"
   ]
  },
  {
   "cell_type": "code",
   "execution_count": 48,
   "id": "4a35c26e",
   "metadata": {},
   "outputs": [],
   "source": [
    "class Discriminator(nn.Module):\n",
    "    def __init__(self, in_channels=3,negative_slope_lrlu=0.2):\n",
    "        super().__init__()\n",
    "        self.model = nn.Sequential(\n",
    "            nn.Conv2d(in_channels, 32, 4, 2, 1),\n",
    "            nn.LeakyReLU(negative_slope_lrlu),\n",
    "            nn.Conv2d(32, 64, 4, 2, 1),\n",
    "            nn.BatchNorm2d(64),\n",
    "            nn.LeakyReLU(negative_slope_lrlu),\n",
    "            nn.Conv2d(64, 128, 4, 2, 1),\n",
    "            nn.BatchNorm2d(128),\n",
    "            nn.LeakyReLU(negative_slope_lrlu),\n",
    "            nn.Flatten(),\n",
    "            nn.Linear(128 * 4 * 4, 1),\n",
    "            nn.Sigmoid()\n",
    "        )\n",
    "\n",
    "    def forward(self, x):\n",
    "        return self.model(x)\n"
   ]
  },
  {
   "cell_type": "code",
   "execution_count": 49,
   "id": "4ff577c0",
   "metadata": {},
   "outputs": [],
   "source": [
    "def full_autoencoder_loss(x, x_hat, mu, logvar, d_fake, d_real, kl_weight=1e-6):\n",
    "    # reconstruction loss\n",
    "    l_rec = F.mse_loss(x_hat, x, reduction='mean')\n",
    "\n",
    "    # try to fool discriminator (make it think fake is real)\n",
    "    l_adv = F.binary_cross_entropy(d_fake, torch.ones_like(d_fake))\n",
    "\n",
    "    # reward Dψ(x)\n",
    "    log_d_real = torch.log(d_real + 1e-8).mean() \n",
    "\n",
    "    # KL divergence\n",
    "    l_kl = -0.5 * torch.sum(1 + logvar - mu.pow(2) - logvar.exp()) / x.size(0)\n",
    "\n",
    "    return l_rec - l_adv + log_d_real + kl_weight * l_kl\n"
   ]
  },
  {
   "cell_type": "code",
   "execution_count": 50,
   "id": "e69b0816",
   "metadata": {},
   "outputs": [],
   "source": [
    "def train_epoch(model, discriminator, dataloader, opt_ae, opt_d, device, kl_weight=1e-6):\n",
    "    model.train()\n",
    "    discriminator.train()\n",
    "\n",
    "    total_ae_loss, total_d_loss = 0, 0\n",
    "\n",
    "\n",
    "    loop = tqdm(dataloader,desc='Training...', leave=True)\n",
    "\n",
    "    for x, _ in loop:\n",
    "        x = x.to(device)\n",
    "\n",
    "        # Forward pass\n",
    "        x_hat, mu, logvar = model(x)\n",
    "\n",
    "        # Discriminator forward\n",
    "        d_real = discriminator(x)\n",
    "        d_fake = discriminator(x_hat.detach())\n",
    "\n",
    "        # Update Discriminator (maximize log Dψ(x) + log(1 − Dψ(x̂)) ) \n",
    "        loss_d_real = F.binary_cross_entropy(d_real, torch.ones_like(d_real))\n",
    "        loss_d_fake = F.binary_cross_entropy(d_fake, torch.zeros_like(d_fake))\n",
    "        loss_d = loss_d_real + loss_d_fake\n",
    "\n",
    "        opt_d.zero_grad()\n",
    "        loss_d.backward()\n",
    "        opt_d.step()\n",
    "\n",
    "        # Update Autoencoder (min full loss) \n",
    "        d_real = discriminator(x)\n",
    "        d_fake = discriminator(x_hat)\n",
    "\n",
    "        loss_ae = full_autoencoder_loss(x, x_hat, mu, logvar, d_fake, d_real, kl_weight)\n",
    "\n",
    "        opt_ae.zero_grad()\n",
    "        loss_ae.backward()\n",
    "        opt_ae.step()\n",
    "\n",
    "        total_ae_loss += loss_ae.item()\n",
    "        total_d_loss += loss_d.item()\n",
    "\n",
    "        loop.set_postfix({\n",
    "            'AE Loss': f\"{loss_ae.item():.4f}\",\n",
    "            'D Loss': f\"{loss_d.item():.4f}\"\n",
    "        })\n",
    "\n",
    "    return total_ae_loss / len(dataloader), total_d_loss / len(dataloader)\n"
   ]
  },
  {
   "cell_type": "code",
   "execution_count": 51,
   "id": "3a86f4ae",
   "metadata": {},
   "outputs": [],
   "source": [
    "from torchvision import transforms\n",
    "\n",
    "transform = transforms.Compose([\n",
    "    transforms.RandomHorizontalFlip(p=0.5),         # 50% chance to flip left-right\n",
    "    transforms.RandomRotation(degrees=15),          # Rotate ±15 degrees\n",
    "    transforms.ToTensor(),                          # Convert to tensor\n",
    "    transforms.Normalize((0.5, 0.5, 0.5),            # Normalize RGB channels to [-1, 1]\n",
    "                         (0.5, 0.5, 0.5))\n",
    "])"
   ]
  },
  {
   "cell_type": "code",
   "execution_count": null,
   "id": "30aff27e",
   "metadata": {},
   "outputs": [],
   "source": [
    "from torchvision.datasets import CIFAR100\n",
    "from torch.utils.data import DataLoader\n",
    "\n",
    "train_dataset = CIFAR100(\n",
    "    root='./data',\n",
    "    train=True,\n",
    "    download=True,\n",
    "    transform=transform\n",
    ")\n",
    "\n",
    "dataloader = DataLoader(\n",
    "    train_dataset,\n",
    "    batch_size=128,\n",
    "    shuffle=True,\n",
    "    num_workers=4,\n",
    "    pin_memory=True\n",
    ")"
   ]
  },
  {
   "cell_type": "code",
   "execution_count": null,
   "id": "78dd4d2a",
   "metadata": {},
   "outputs": [],
   "source": [
    "device = \"cuda\"\n",
    "model = TinyVAEAdversarial()\n",
    "model.to(device=device)\n",
    "discriminator = Discriminator().to(device)\n",
    "\n",
    "opt_ae = torch.optim.Adam(model.parameters(), lr=1e-3)\n",
    "opt_d = torch.optim.Adam(discriminator.parameters(), lr=1e-4)\n",
    "\n",
    "epochs = 51\n",
    "for epoch in range(1, epochs):\n",
    "    print(f\"[in epoch {epoch}/{epochs}]\")\n",
    "    ae_loss, d_loss = train_epoch(model, discriminator, dataloader, opt_ae, opt_d, device)\n",
    "    print(f\"[{epoch:02d}] AE Loss: {ae_loss:.4f} | D Loss: {d_loss:.4f}\")"
   ]
  },
  {
   "cell_type": "markdown",
   "id": "395a04d3",
   "metadata": {},
   "source": [
    "## VAE Implementation \n",
    "\\* We couldn't balance between the adversarial and VAE, either the adversary was too strong, the loss exploded or it converged almost instantly, with the implementation details of the paper."
   ]
  },
  {
   "cell_type": "code",
   "execution_count": 65,
   "id": "0ea98261",
   "metadata": {},
   "outputs": [],
   "source": [
    "class TinyVAE(nn.Module):\n",
    "    def __init__(self, in_channels=3, latent_dim=256):\n",
    "        super().__init__()\n",
    "        self.latent_dim = latent_dim\n",
    "        #Output Size = (Input Size - Kernel Size + 2 * Padding) / Stride + 1.\n",
    "        self.encoder = nn.Sequential(\n",
    "            nn.Conv2d(in_channels, 64, 4, 2, 1), # 32x32 -> 16x16\n",
    "            nn.GroupNorm(32, 64),\n",
    "            nn.ReLU(),\n",
    "            nn.Conv2d(64, 128, 4, 2, 1), # 16x16 -> 8x8\n",
    "            nn.GroupNorm(32, 128),\n",
    "            nn.ReLU(),\n",
    "            nn.Conv2d(128, 256, 4, 2, 1), # 8x8 -> 4x4\n",
    "            nn.GroupNorm(32, 256),\n",
    "            nn.ReLU()\n",
    "        )\n",
    "\n",
    "        self.flatten = nn.Flatten()\n",
    "        self.mean = nn.Linear(256*4*4,latent_dim)\n",
    "        self.logvar = nn.Linear(256*4*4,latent_dim)\n",
    "        nn.init.constant_(self.logvar.bias, -4.0)\n",
    "\n",
    "        self.z_proj = nn.Linear(latent_dim, 256 * 4 * 4)\n",
    "\n",
    "\n",
    "        self.decoder = nn.Sequential(\n",
    "            nn.ConvTranspose2d(256, 256, 4, 2, 1), \n",
    "            nn.GroupNorm(32, 256),\n",
    "            nn.ReLU(),\n",
    "            nn.ConvTranspose2d(256, 128, 4, 2, 1),\n",
    "            nn.GroupNorm(32, 128),\n",
    "            nn.ReLU(),\n",
    "            nn.ConvTranspose2d(128, 64, 4, 2, 1),\n",
    "            nn.GroupNorm(32, 64),\n",
    "            nn.ReLU(),\n",
    "            nn.Conv2d(64, in_channels, kernel_size=3, padding=1),\n",
    "            nn.Tanh() # value between -1 and 1\n",
    "        )\n",
    "\n",
    "    def reparameterize(self, mu, logvar):\n",
    "        std = torch.exp(0.5 * logvar)\n",
    "        eps = torch.randn_like(std)\n",
    "        return mu + eps * std\n",
    "\n",
    "    def encode(self,x):\n",
    "        latent = self.encoder(x)\n",
    "        latent_flat = self.flatten(latent)\n",
    "        logvar = self.logvar(latent_flat)\n",
    "        mean = self.mean(latent_flat)\n",
    "        return mean,logvar\n",
    "\n",
    "    def decode(self,latent):\n",
    "        x = self.z_proj(latent).view(-1, 256, 4, 4)\n",
    "        img = self.decoder(x)\n",
    "        return img\n",
    "\n",
    "    def forward(self,x):\n",
    "        mean,logvar = self.encode(x)\n",
    "        z = self.reparameterize(mean,logvar)\n",
    "        x_hat = self.decode(z)\n",
    "\n",
    "        return x_hat,mean,logvar\n",
    "\n",
    "    def reconstruction_loss(self,x_hat,x):\n",
    "         return F.mse_loss(x_hat, x, reduction='mean')\n",
    "\n",
    "    def kl_divergence_loss(self, mean, logvar):\n",
    "        return 0.5 * (mean.pow(2) + logvar.exp() - 1 - logvar).sum(dim=1).mean()\n"
   ]
  },
  {
   "cell_type": "code",
   "execution_count": 66,
   "id": "b0b4676a",
   "metadata": {},
   "outputs": [],
   "source": [
    "# beta schedule for training 20 epochs\n",
    "plateau = 0.02         \n",
    "ramp_len = 3\n",
    "\n",
    "def beta_schedule(epoch):\n",
    "    if epoch < 2:                           \n",
    "        return 0.02 * epoch / 2            \n",
    "    elif epoch < 2 + ramp_len:\n",
    "        return 0.02                         \n",
    "    else:\n",
    "        return plateau "
   ]
  },
  {
   "cell_type": "code",
   "execution_count": 67,
   "id": "a7823901",
   "metadata": {},
   "outputs": [],
   "source": [
    "def train_epoch(model,dataloader,opt_ae, device, epoch):\n",
    "    model.train()\n",
    "    total_ae_loss = 0\n",
    "    loop = tqdm(dataloader,desc='Training...', leave=True)\n",
    "\n",
    "    for x, _ in loop:\n",
    "        x = x.to(device)\n",
    "\n",
    "        # Forward pass\n",
    "        x_hat, mu, logvar = model(x)\n",
    "\n",
    "        recon_loss = model.reconstruction_loss(x_hat,x)\n",
    "        kl_loss = model.kl_divergence_loss(mu, logvar)\n",
    "\n",
    "        #beta = beta_schedule(epoch)  # Get the current beta value based on the epoch\n",
    "        C_max = 10.0          # aim for 10 nats by the end\n",
    "        C_inc = C_max / 20    # reach it in 20 epochs\n",
    "        C     = min(C_max, epoch * C_inc)\n",
    "\n",
    "        gamma = 150.0         # was 30 → raise 5‑10×\n",
    "        if kl_loss > C - 0.1:      \n",
    "            gamma = 0.0\n",
    "        loss  = recon_loss + gamma * torch.clamp(C - kl_loss, min=0)\n",
    "        #loss = recon_loss + beta * kl_loss\n",
    "        opt_ae.zero_grad()\n",
    "        loss.backward()\n",
    "        torch.nn.utils.clip_grad_norm_(model.parameters(), 1.0)\n",
    "        opt_ae.step()\n",
    "\n",
    "        total_ae_loss += loss.item()\n",
    "\n",
    "        with torch.no_grad():\n",
    "            mu_abs  = mu.abs().mean().item()\n",
    "            logvar_mean = logvar.mean().item()\n",
    "\n",
    "        loop.set_postfix(\n",
    "            recon = f'{recon_loss:.4f}',\n",
    "            kl    = f'{kl_loss:.4f}',\n",
    "            μ   = f'{mu_abs:.4f}',\n",
    "            logσ2 = f'{logvar_mean:.4f}',\n",
    ")\n",
    "    #scheduler.step()\n",
    "    return total_ae_loss / len(dataloader)"
   ]
  },
  {
   "cell_type": "code",
   "execution_count": 68,
   "id": "43439679",
   "metadata": {},
   "outputs": [],
   "source": [
    "def plot_ae_loss(train_losses):\n",
    "    epochs = list(range(1, len(train_losses) + 1))\n",
    "    plt.figure(figsize=(10, 6))\n",
    "    plt.plot(epochs, train_losses, marker='o', label='AE Loss')\n",
    "    plt.title('Autoencoder Training Loss over Epochs')\n",
    "    plt.xlabel('Epoch')\n",
    "    plt.ylabel('Average AE Loss')\n",
    "    plt.grid(True)\n",
    "    plt.legend()\n",
    "    plt.tight_layout()\n",
    "    plt.show()"
   ]
  },
  {
   "cell_type": "code",
   "execution_count": 69,
   "id": "163537c9",
   "metadata": {},
   "outputs": [],
   "source": [
    "from torchvision import transforms\n",
    "\n",
    "transform = transforms.Compose([\n",
    "    transforms.RandomHorizontalFlip(p=0.5),         # 50% chance to flip left-right\n",
    "    transforms.ToTensor(),                          # Convert to tensor\n",
    "    transforms.Normalize((0.5, 0.5, 0.5),            # Normalize RGB channels to [-1, 1]\n",
    "                         (0.5, 0.5, 0.5))\n",
    "])"
   ]
  },
  {
   "cell_type": "code",
   "execution_count": 70,
   "id": "cabfc0f1",
   "metadata": {},
   "outputs": [],
   "source": [
    "from torchvision.datasets import CIFAR100\n",
    "from torch.utils.data import DataLoader\n",
    "\n",
    "train_dataset = CIFAR100(\n",
    "    root='./data',\n",
    "    train=True,\n",
    "    download=True,\n",
    "    transform=transform\n",
    ")\n",
    "\n",
    "dataloader = DataLoader(\n",
    "    train_dataset,\n",
    "    batch_size=32,\n",
    "    shuffle=True,\n",
    "    num_workers=4,\n",
    "    pin_memory=True\n",
    ")"
   ]
  },
  {
   "cell_type": "code",
   "execution_count": 71,
   "id": "f524a2d1",
   "metadata": {},
   "outputs": [
    {
     "name": "stdout",
     "output_type": "stream",
     "text": [
      "[in epoch 1/60]\n"
     ]
    },
    {
     "name": "stderr",
     "output_type": "stream",
     "text": [
      "Training...: 100%|██████████| 1563/1563 [00:18<00:00, 82.72it/s, kl=5491.1699, logσ2=-15.0909, recon=0.0460, μ=4.1210]      \n"
     ]
    },
    {
     "name": "stdout",
     "output_type": "stream",
     "text": [
      "[01] VAE Loss: 0.0829\n",
      "[in epoch 2/60]\n"
     ]
    },
    {
     "name": "stderr",
     "output_type": "stream",
     "text": [
      "Training...: 100%|██████████| 1563/1563 [00:18<00:00, 84.14it/s, kl=6225.1943, logσ2=-16.7210, recon=0.0294, μ=4.2835] \n"
     ]
    },
    {
     "name": "stdout",
     "output_type": "stream",
     "text": [
      "[02] VAE Loss: 0.0345\n",
      "[in epoch 3/60]\n"
     ]
    },
    {
     "name": "stderr",
     "output_type": "stream",
     "text": [
      "Training...: 100%|██████████| 1563/1563 [00:18<00:00, 85.35it/s, kl=7065.9946, logσ2=-17.9580, recon=0.0193, μ=4.6893] \n"
     ]
    },
    {
     "name": "stdout",
     "output_type": "stream",
     "text": [
      "[03] VAE Loss: 0.0249\n",
      "[in epoch 4/60]\n"
     ]
    },
    {
     "name": "stderr",
     "output_type": "stream",
     "text": [
      "Training...: 100%|██████████| 1563/1563 [00:28<00:00, 54.51it/s, kl=6986.3999, logσ2=-18.7842, recon=0.0172, μ=4.5287]\n"
     ]
    },
    {
     "name": "stdout",
     "output_type": "stream",
     "text": [
      "[04] VAE Loss: 0.0208\n",
      "[in epoch 5/60]\n"
     ]
    },
    {
     "name": "stderr",
     "output_type": "stream",
     "text": [
      "Training...: 100%|██████████| 1563/1563 [00:30<00:00, 51.84it/s, kl=7396.0215, logσ2=-19.2173, recon=0.0178, μ=4.6396]\n"
     ]
    },
    {
     "name": "stdout",
     "output_type": "stream",
     "text": [
      "[05] VAE Loss: 0.0185\n",
      "[in epoch 6/60]\n"
     ]
    },
    {
     "name": "stderr",
     "output_type": "stream",
     "text": [
      "Training...: 100%|██████████| 1563/1563 [00:30<00:00, 51.98it/s, kl=7905.6460, logσ2=-19.4557, recon=0.0143, μ=4.8627]\n"
     ]
    },
    {
     "name": "stdout",
     "output_type": "stream",
     "text": [
      "[06] VAE Loss: 0.0166\n",
      "[in epoch 7/60]\n"
     ]
    },
    {
     "name": "stderr",
     "output_type": "stream",
     "text": [
      "Training...: 100%|██████████| 1563/1563 [00:29<00:00, 52.42it/s, kl=8376.3125, logσ2=-19.5902, recon=0.0136, μ=4.8721]\n"
     ]
    },
    {
     "name": "stdout",
     "output_type": "stream",
     "text": [
      "[07] VAE Loss: 0.0153\n",
      "[in epoch 8/60]\n"
     ]
    },
    {
     "name": "stderr",
     "output_type": "stream",
     "text": [
      "Training...: 100%|██████████| 1563/1563 [00:30<00:00, 51.86it/s, kl=8480.4990, logσ2=-19.8230, recon=0.0135, μ=4.8781]\n"
     ]
    },
    {
     "name": "stdout",
     "output_type": "stream",
     "text": [
      "[08] VAE Loss: 0.0142\n",
      "[in epoch 9/60]\n"
     ]
    },
    {
     "name": "stderr",
     "output_type": "stream",
     "text": [
      "Training...: 100%|██████████| 1563/1563 [00:29<00:00, 52.32it/s, kl=8056.1064, logσ2=-19.7156, recon=0.0136, μ=4.7197]\n"
     ]
    },
    {
     "name": "stdout",
     "output_type": "stream",
     "text": [
      "[09] VAE Loss: 0.0133\n",
      "[in epoch 10/60]\n"
     ]
    },
    {
     "name": "stderr",
     "output_type": "stream",
     "text": [
      "Training...: 100%|██████████| 1563/1563 [00:29<00:00, 52.38it/s, kl=8563.9287, logσ2=-19.6467, recon=0.0090, μ=4.9079]\n"
     ]
    },
    {
     "name": "stdout",
     "output_type": "stream",
     "text": [
      "[10] VAE Loss: 0.0126\n",
      "[in epoch 11/60]\n"
     ]
    },
    {
     "name": "stderr",
     "output_type": "stream",
     "text": [
      "Training...: 100%|██████████| 1563/1563 [00:29<00:00, 52.74it/s, kl=8473.7637, logσ2=-19.9630, recon=0.0125, μ=4.9882]\n"
     ]
    },
    {
     "name": "stdout",
     "output_type": "stream",
     "text": [
      "[11] VAE Loss: 0.0119\n",
      "[in epoch 12/60]\n"
     ]
    },
    {
     "name": "stderr",
     "output_type": "stream",
     "text": [
      "Training...: 100%|██████████| 1563/1563 [00:30<00:00, 51.49it/s, kl=8685.7852, logσ2=-19.7660, recon=0.0122, μ=5.0747]\n"
     ]
    },
    {
     "name": "stdout",
     "output_type": "stream",
     "text": [
      "[12] VAE Loss: 0.0114\n",
      "[in epoch 13/60]\n"
     ]
    },
    {
     "name": "stderr",
     "output_type": "stream",
     "text": [
      "Training...: 100%|██████████| 1563/1563 [00:19<00:00, 79.98it/s, kl=9174.7754, logσ2=-19.5703, recon=0.0093, μ=5.2157] \n"
     ]
    },
    {
     "name": "stdout",
     "output_type": "stream",
     "text": [
      "[13] VAE Loss: 0.0109\n",
      "[in epoch 14/60]\n"
     ]
    },
    {
     "name": "stderr",
     "output_type": "stream",
     "text": [
      "Training...: 100%|██████████| 1563/1563 [00:23<00:00, 66.70it/s, kl=9552.8828, logσ2=-19.5314, recon=0.0100, μ=5.2617]\n"
     ]
    },
    {
     "name": "stdout",
     "output_type": "stream",
     "text": [
      "[14] VAE Loss: 0.0106\n",
      "[in epoch 15/60]\n"
     ]
    },
    {
     "name": "stderr",
     "output_type": "stream",
     "text": [
      "Training...: 100%|██████████| 1563/1563 [00:30<00:00, 51.85it/s, kl=9649.6309, logσ2=-19.6573, recon=0.0100, μ=5.1287]\n"
     ]
    },
    {
     "name": "stdout",
     "output_type": "stream",
     "text": [
      "[15] VAE Loss: 0.0103\n",
      "[in epoch 16/60]\n"
     ]
    },
    {
     "name": "stderr",
     "output_type": "stream",
     "text": [
      "Training...: 100%|██████████| 1563/1563 [00:30<00:00, 52.08it/s, kl=9666.5156, logσ2=-19.8240, recon=0.0102, μ=5.3448]\n"
     ]
    },
    {
     "name": "stdout",
     "output_type": "stream",
     "text": [
      "[16] VAE Loss: 0.0101\n",
      "[in epoch 17/60]\n"
     ]
    },
    {
     "name": "stderr",
     "output_type": "stream",
     "text": [
      "Training...: 100%|██████████| 1563/1563 [00:30<00:00, 51.65it/s, kl=9485.2695, logσ2=-20.0126, recon=0.0103, μ=5.3810] \n"
     ]
    },
    {
     "name": "stdout",
     "output_type": "stream",
     "text": [
      "[17] VAE Loss: 0.0099\n",
      "[in epoch 18/60]\n"
     ]
    },
    {
     "name": "stderr",
     "output_type": "stream",
     "text": [
      "Training...: 100%|██████████| 1563/1563 [00:29<00:00, 52.36it/s, kl=9689.4531, logσ2=-19.8068, recon=0.0087, μ=5.2729] \n"
     ]
    },
    {
     "name": "stdout",
     "output_type": "stream",
     "text": [
      "[18] VAE Loss: 0.0097\n",
      "[in epoch 19/60]\n"
     ]
    },
    {
     "name": "stderr",
     "output_type": "stream",
     "text": [
      "Training...: 100%|██████████| 1563/1563 [00:29<00:00, 52.31it/s, kl=9832.2285, logσ2=-19.7388, recon=0.0109, μ=5.4146] \n"
     ]
    },
    {
     "name": "stdout",
     "output_type": "stream",
     "text": [
      "[19] VAE Loss: 0.0095\n",
      "[in epoch 20/60]\n"
     ]
    },
    {
     "name": "stderr",
     "output_type": "stream",
     "text": [
      "Training...: 100%|██████████| 1563/1563 [00:29<00:00, 52.41it/s, kl=10193.4795, logσ2=-19.7355, recon=0.0086, μ=5.4867]\n"
     ]
    },
    {
     "name": "stdout",
     "output_type": "stream",
     "text": [
      "[20] VAE Loss: 0.0094\n",
      "[in epoch 21/60]\n"
     ]
    },
    {
     "name": "stderr",
     "output_type": "stream",
     "text": [
      "Training...: 100%|██████████| 1563/1563 [00:30<00:00, 51.49it/s, kl=9972.1660, logσ2=-19.6532, recon=0.0105, μ=5.4690] \n"
     ]
    },
    {
     "name": "stdout",
     "output_type": "stream",
     "text": [
      "[21] VAE Loss: 0.0092\n",
      "[in epoch 22/60]\n"
     ]
    },
    {
     "name": "stderr",
     "output_type": "stream",
     "text": [
      "Training...: 100%|██████████| 1563/1563 [00:30<00:00, 51.95it/s, kl=10721.0693, logσ2=-19.5631, recon=0.0068, μ=5.5659]\n"
     ]
    },
    {
     "name": "stdout",
     "output_type": "stream",
     "text": [
      "[22] VAE Loss: 0.0091\n",
      "[in epoch 23/60]\n"
     ]
    },
    {
     "name": "stderr",
     "output_type": "stream",
     "text": [
      "Training...: 100%|██████████| 1563/1563 [00:18<00:00, 82.32it/s, kl=11107.8594, logσ2=-19.3245, recon=0.0097, μ=5.6341] \n"
     ]
    },
    {
     "name": "stdout",
     "output_type": "stream",
     "text": [
      "[23] VAE Loss: 0.0090\n",
      "[in epoch 24/60]\n"
     ]
    },
    {
     "name": "stderr",
     "output_type": "stream",
     "text": [
      "Training...: 100%|██████████| 1563/1563 [00:18<00:00, 84.70it/s, kl=10778.0693, logσ2=-19.6222, recon=0.0086, μ=5.6766] \n"
     ]
    },
    {
     "name": "stdout",
     "output_type": "stream",
     "text": [
      "[24] VAE Loss: 0.0089\n",
      "[in epoch 25/60]\n"
     ]
    },
    {
     "name": "stderr",
     "output_type": "stream",
     "text": [
      "Training...: 100%|██████████| 1563/1563 [00:27<00:00, 55.93it/s, kl=10853.6387, logσ2=-19.5886, recon=0.0113, μ=5.7478]\n"
     ]
    },
    {
     "name": "stdout",
     "output_type": "stream",
     "text": [
      "[25] VAE Loss: 0.0088\n",
      "[in epoch 26/60]\n"
     ]
    },
    {
     "name": "stderr",
     "output_type": "stream",
     "text": [
      "Training...: 100%|██████████| 1563/1563 [00:29<00:00, 52.15it/s, kl=10771.7344, logσ2=-19.8064, recon=0.0094, μ=5.6548]\n"
     ]
    },
    {
     "name": "stdout",
     "output_type": "stream",
     "text": [
      "[26] VAE Loss: 0.0088\n",
      "[in epoch 27/60]\n"
     ]
    },
    {
     "name": "stderr",
     "output_type": "stream",
     "text": [
      "Training...: 100%|██████████| 1563/1563 [00:26<00:00, 60.00it/s, kl=10933.7383, logσ2=-19.8214, recon=0.0092, μ=5.7808] \n"
     ]
    },
    {
     "name": "stdout",
     "output_type": "stream",
     "text": [
      "[27] VAE Loss: 0.0087\n",
      "[in epoch 28/60]\n"
     ]
    },
    {
     "name": "stderr",
     "output_type": "stream",
     "text": [
      "Training...: 100%|██████████| 1563/1563 [00:23<00:00, 66.36it/s, kl=11268.2539, logσ2=-19.6716, recon=0.0083, μ=5.8866]\n"
     ]
    },
    {
     "name": "stdout",
     "output_type": "stream",
     "text": [
      "[28] VAE Loss: 0.0086\n",
      "[in epoch 29/60]\n"
     ]
    },
    {
     "name": "stderr",
     "output_type": "stream",
     "text": [
      "Training...: 100%|██████████| 1563/1563 [00:29<00:00, 52.43it/s, kl=11526.1855, logσ2=-19.5109, recon=0.0081, μ=5.8441]\n"
     ]
    },
    {
     "name": "stdout",
     "output_type": "stream",
     "text": [
      "[29] VAE Loss: 0.0085\n",
      "[in epoch 30/60]\n"
     ]
    },
    {
     "name": "stderr",
     "output_type": "stream",
     "text": [
      "Training...: 100%|██████████| 1563/1563 [00:30<00:00, 52.00it/s, kl=11719.9062, logσ2=-19.8094, recon=0.0108, μ=6.1225]\n"
     ]
    },
    {
     "name": "stdout",
     "output_type": "stream",
     "text": [
      "[30] VAE Loss: 0.0085\n",
      "[in epoch 31/60]\n"
     ]
    },
    {
     "name": "stderr",
     "output_type": "stream",
     "text": [
      "Training...: 100%|██████████| 1563/1563 [00:25<00:00, 60.71it/s, kl=11908.2803, logσ2=-19.5654, recon=0.0096, μ=6.1498] \n"
     ]
    },
    {
     "name": "stdout",
     "output_type": "stream",
     "text": [
      "[31] VAE Loss: 0.0084\n",
      "[in epoch 32/60]\n"
     ]
    },
    {
     "name": "stderr",
     "output_type": "stream",
     "text": [
      "Training...: 100%|██████████| 1563/1563 [00:18<00:00, 83.32it/s, kl=11920.2637, logσ2=-19.7875, recon=0.0080, μ=6.0187] \n"
     ]
    },
    {
     "name": "stdout",
     "output_type": "stream",
     "text": [
      "[32] VAE Loss: 0.0084\n",
      "[in epoch 33/60]\n"
     ]
    },
    {
     "name": "stderr",
     "output_type": "stream",
     "text": [
      "Training...: 100%|██████████| 1563/1563 [00:25<00:00, 61.22it/s, kl=12154.9824, logσ2=-19.6302, recon=0.0080, μ=6.1447]\n"
     ]
    },
    {
     "name": "stdout",
     "output_type": "stream",
     "text": [
      "[33] VAE Loss: 0.0083\n",
      "[in epoch 34/60]\n"
     ]
    },
    {
     "name": "stderr",
     "output_type": "stream",
     "text": [
      "Training...: 100%|██████████| 1563/1563 [00:29<00:00, 52.43it/s, kl=12465.4414, logσ2=-19.3526, recon=0.0067, μ=6.0610]\n"
     ]
    },
    {
     "name": "stdout",
     "output_type": "stream",
     "text": [
      "[34] VAE Loss: 0.0083\n",
      "[in epoch 35/60]\n"
     ]
    },
    {
     "name": "stderr",
     "output_type": "stream",
     "text": [
      "Training...: 100%|██████████| 1563/1563 [00:29<00:00, 52.14it/s, kl=12067.3672, logσ2=-19.5436, recon=0.0073, μ=6.0106]\n"
     ]
    },
    {
     "name": "stdout",
     "output_type": "stream",
     "text": [
      "[35] VAE Loss: 0.0082\n",
      "[in epoch 36/60]\n"
     ]
    },
    {
     "name": "stderr",
     "output_type": "stream",
     "text": [
      "Training...: 100%|██████████| 1563/1563 [00:29<00:00, 52.26it/s, kl=12565.7783, logσ2=-19.5905, recon=0.0112, μ=6.4555]\n"
     ]
    },
    {
     "name": "stdout",
     "output_type": "stream",
     "text": [
      "[36] VAE Loss: 0.0082\n",
      "[in epoch 37/60]\n"
     ]
    },
    {
     "name": "stderr",
     "output_type": "stream",
     "text": [
      "Training...: 100%|██████████| 1563/1563 [00:29<00:00, 52.33it/s, kl=12705.7852, logσ2=-19.2794, recon=0.0078, μ=6.3504]\n"
     ]
    },
    {
     "name": "stdout",
     "output_type": "stream",
     "text": [
      "[37] VAE Loss: 0.0082\n",
      "[in epoch 38/60]\n"
     ]
    },
    {
     "name": "stderr",
     "output_type": "stream",
     "text": [
      "Training...: 100%|██████████| 1563/1563 [00:25<00:00, 61.96it/s, kl=12904.4736, logσ2=-19.5689, recon=0.0080, μ=6.4350] \n"
     ]
    },
    {
     "name": "stdout",
     "output_type": "stream",
     "text": [
      "[38] VAE Loss: 0.0081\n",
      "[in epoch 39/60]\n"
     ]
    },
    {
     "name": "stderr",
     "output_type": "stream",
     "text": [
      "Training...: 100%|██████████| 1563/1563 [00:28<00:00, 55.65it/s, kl=12548.4395, logσ2=-19.6835, recon=0.0085, μ=6.4860]\n"
     ]
    },
    {
     "name": "stdout",
     "output_type": "stream",
     "text": [
      "[39] VAE Loss: 0.0081\n",
      "[in epoch 40/60]\n"
     ]
    },
    {
     "name": "stderr",
     "output_type": "stream",
     "text": [
      "Training...: 100%|██████████| 1563/1563 [00:29<00:00, 52.34it/s, kl=13009.3379, logσ2=-19.3428, recon=0.0092, μ=6.3649]\n"
     ]
    },
    {
     "name": "stdout",
     "output_type": "stream",
     "text": [
      "[40] VAE Loss: 0.0080\n",
      "[in epoch 41/60]\n"
     ]
    },
    {
     "name": "stderr",
     "output_type": "stream",
     "text": [
      "Training...: 100%|██████████| 1563/1563 [00:30<00:00, 51.33it/s, kl=13304.3613, logσ2=-19.3603, recon=0.0074, μ=6.4699]\n"
     ]
    },
    {
     "name": "stdout",
     "output_type": "stream",
     "text": [
      "[41] VAE Loss: 0.0080\n",
      "[in epoch 42/60]\n"
     ]
    },
    {
     "name": "stderr",
     "output_type": "stream",
     "text": [
      "Training...: 100%|██████████| 1563/1563 [00:19<00:00, 80.99it/s, kl=13478.0996, logσ2=-19.0565, recon=0.0079, μ=6.5085] \n"
     ]
    },
    {
     "name": "stdout",
     "output_type": "stream",
     "text": [
      "[42] VAE Loss: 0.0080\n",
      "[in epoch 43/60]\n"
     ]
    },
    {
     "name": "stderr",
     "output_type": "stream",
     "text": [
      "Training...: 100%|██████████| 1563/1563 [00:25<00:00, 61.87it/s, kl=13535.3779, logσ2=-19.3991, recon=0.0062, μ=6.5480]\n"
     ]
    },
    {
     "name": "stdout",
     "output_type": "stream",
     "text": [
      "[43] VAE Loss: 0.0079\n",
      "[in epoch 44/60]\n"
     ]
    },
    {
     "name": "stderr",
     "output_type": "stream",
     "text": [
      "Training...: 100%|██████████| 1563/1563 [00:29<00:00, 52.21it/s, kl=14021.6777, logσ2=-19.0799, recon=0.0065, μ=6.7414]\n"
     ]
    },
    {
     "name": "stdout",
     "output_type": "stream",
     "text": [
      "[44] VAE Loss: 0.0079\n",
      "[in epoch 45/60]\n"
     ]
    },
    {
     "name": "stderr",
     "output_type": "stream",
     "text": [
      "Training...: 100%|██████████| 1563/1563 [00:29<00:00, 52.61it/s, kl=13877.7578, logσ2=-19.1131, recon=0.0078, μ=6.5496]\n"
     ]
    },
    {
     "name": "stdout",
     "output_type": "stream",
     "text": [
      "[45] VAE Loss: 0.0079\n",
      "[in epoch 46/60]\n"
     ]
    },
    {
     "name": "stderr",
     "output_type": "stream",
     "text": [
      "Training...: 100%|██████████| 1563/1563 [00:29<00:00, 52.24it/s, kl=14402.8184, logσ2=-19.2855, recon=0.0092, μ=6.7939]\n"
     ]
    },
    {
     "name": "stdout",
     "output_type": "stream",
     "text": [
      "[46] VAE Loss: 0.0078\n",
      "[in epoch 47/60]\n"
     ]
    },
    {
     "name": "stderr",
     "output_type": "stream",
     "text": [
      "Training...: 100%|██████████| 1563/1563 [00:24<00:00, 63.23it/s, kl=14573.3164, logσ2=-19.0526, recon=0.0069, μ=6.6912] \n"
     ]
    },
    {
     "name": "stdout",
     "output_type": "stream",
     "text": [
      "[47] VAE Loss: 0.0078\n",
      "[in epoch 48/60]\n"
     ]
    },
    {
     "name": "stderr",
     "output_type": "stream",
     "text": [
      "Training...: 100%|██████████| 1563/1563 [00:18<00:00, 84.92it/s, kl=14553.8330, logσ2=-19.3486, recon=0.0080, μ=6.9362] \n"
     ]
    },
    {
     "name": "stdout",
     "output_type": "stream",
     "text": [
      "[48] VAE Loss: 0.0078\n",
      "[in epoch 49/60]\n"
     ]
    },
    {
     "name": "stderr",
     "output_type": "stream",
     "text": [
      "Training...: 100%|██████████| 1563/1563 [00:28<00:00, 54.92it/s, kl=15065.2148, logσ2=-19.4582, recon=0.0094, μ=7.0995]\n"
     ]
    },
    {
     "name": "stdout",
     "output_type": "stream",
     "text": [
      "[49] VAE Loss: 0.0078\n",
      "[in epoch 50/60]\n"
     ]
    },
    {
     "name": "stderr",
     "output_type": "stream",
     "text": [
      "Training...: 100%|██████████| 1563/1563 [00:30<00:00, 51.77it/s, kl=14538.6250, logσ2=-19.2800, recon=0.0085, μ=7.0475]\n"
     ]
    },
    {
     "name": "stdout",
     "output_type": "stream",
     "text": [
      "[50] VAE Loss: 0.0077\n",
      "[in epoch 51/60]\n"
     ]
    },
    {
     "name": "stderr",
     "output_type": "stream",
     "text": [
      "Training...: 100%|██████████| 1563/1563 [00:30<00:00, 52.04it/s, kl=15222.1699, logσ2=-19.2534, recon=0.0065, μ=6.9458]\n"
     ]
    },
    {
     "name": "stdout",
     "output_type": "stream",
     "text": [
      "[51] VAE Loss: 0.0077\n",
      "[in epoch 52/60]\n"
     ]
    },
    {
     "name": "stderr",
     "output_type": "stream",
     "text": [
      "Training...: 100%|██████████| 1563/1563 [00:25<00:00, 60.97it/s, kl=15364.3574, logσ2=-19.3226, recon=0.0080, μ=7.2728]\n"
     ]
    },
    {
     "name": "stdout",
     "output_type": "stream",
     "text": [
      "[52] VAE Loss: 0.0077\n",
      "[in epoch 53/60]\n"
     ]
    },
    {
     "name": "stderr",
     "output_type": "stream",
     "text": [
      "Training...: 100%|██████████| 1563/1563 [00:30<00:00, 51.93it/s, kl=15229.5020, logσ2=-19.1721, recon=0.0081, μ=7.2220]\n"
     ]
    },
    {
     "name": "stdout",
     "output_type": "stream",
     "text": [
      "[53] VAE Loss: 0.0077\n",
      "[in epoch 54/60]\n"
     ]
    },
    {
     "name": "stderr",
     "output_type": "stream",
     "text": [
      "Training...: 100%|██████████| 1563/1563 [00:30<00:00, 51.53it/s, kl=15212.7383, logσ2=-19.0509, recon=0.0065, μ=6.9991]\n"
     ]
    },
    {
     "name": "stdout",
     "output_type": "stream",
     "text": [
      "[54] VAE Loss: 0.0076\n",
      "[in epoch 55/60]\n"
     ]
    },
    {
     "name": "stderr",
     "output_type": "stream",
     "text": [
      "Training...: 100%|██████████| 1563/1563 [00:29<00:00, 52.15it/s, kl=15384.1768, logσ2=-19.0026, recon=0.0069, μ=7.1055]\n"
     ]
    },
    {
     "name": "stdout",
     "output_type": "stream",
     "text": [
      "[55] VAE Loss: 0.0076\n",
      "[in epoch 56/60]\n"
     ]
    },
    {
     "name": "stderr",
     "output_type": "stream",
     "text": [
      "Training...: 100%|██████████| 1563/1563 [00:22<00:00, 70.99it/s, kl=16186.3340, logσ2=-18.9301, recon=0.0088, μ=7.2621] \n"
     ]
    },
    {
     "name": "stdout",
     "output_type": "stream",
     "text": [
      "[56] VAE Loss: 0.0076\n",
      "[in epoch 57/60]\n"
     ]
    },
    {
     "name": "stderr",
     "output_type": "stream",
     "text": [
      "Training...: 100%|██████████| 1563/1563 [00:28<00:00, 54.54it/s, kl=16024.7256, logσ2=-19.0578, recon=0.0073, μ=7.1563]\n"
     ]
    },
    {
     "name": "stdout",
     "output_type": "stream",
     "text": [
      "[57] VAE Loss: 0.0076\n",
      "[in epoch 58/60]\n"
     ]
    },
    {
     "name": "stderr",
     "output_type": "stream",
     "text": [
      "Training...: 100%|██████████| 1563/1563 [00:30<00:00, 51.40it/s, kl=16402.4102, logσ2=-18.8178, recon=0.0071, μ=7.2460]\n"
     ]
    },
    {
     "name": "stdout",
     "output_type": "stream",
     "text": [
      "[58] VAE Loss: 0.0076\n",
      "[in epoch 59/60]\n"
     ]
    },
    {
     "name": "stderr",
     "output_type": "stream",
     "text": [
      "Training...: 100%|██████████| 1563/1563 [00:23<00:00, 66.48it/s, kl=16410.6445, logσ2=-19.1390, recon=0.0077, μ=7.3205] \n"
     ]
    },
    {
     "name": "stdout",
     "output_type": "stream",
     "text": [
      "[59] VAE Loss: 0.0076\n",
      "[in epoch 60/60]\n"
     ]
    },
    {
     "name": "stderr",
     "output_type": "stream",
     "text": [
      "Training...: 100%|██████████| 1563/1563 [00:18<00:00, 84.85it/s, kl=16389.6074, logσ2=-19.0830, recon=0.0083, μ=7.4848] "
     ]
    },
    {
     "name": "stdout",
     "output_type": "stream",
     "text": [
      "[60] VAE Loss: 0.0075\n"
     ]
    },
    {
     "name": "stderr",
     "output_type": "stream",
     "text": [
      "\n"
     ]
    }
   ],
   "source": [
    "from torch.optim.lr_scheduler import CosineAnnealingLR\n",
    "\n",
    "device = \"cuda\"\n",
    "model = TinyVAE()\n",
    "model.to(device=device)\n",
    "\n",
    "opt_ae = torch.optim.Adam(model.parameters(), lr=1e-3)\n",
    "epochs = 60\n",
    "#scheduler = CosineAnnealingLR(opt_ae, T_max=epochs)\n",
    "ae_losses = []\n",
    "\n",
    "for epoch in range(1, epochs+1):\n",
    "    print(f\"[in epoch {epoch}/{epochs}]\")\n",
    "    ae_loss = train_epoch(model, dataloader, opt_ae, device, epoch - 1)\n",
    "    ae_losses.append(ae_loss)\n",
    "    print(f\"[{epoch:02d}] VAE Loss: {ae_loss:.4f}\")\n"
   ]
  },
  {
   "cell_type": "code",
   "execution_count": 72,
   "id": "7e2cc7ea",
   "metadata": {},
   "outputs": [
    {
     "data": {
      "image/png": "[encoded data removed]",
      "text/plain": [
       "<Figure size 1000x600 with 1 Axes>"
      ]
     },
     "metadata": {},
     "output_type": "display_data"
    }
   ],
   "source": [
    "plot_ae_loss(ae_losses)"
   ]
  },
  {
   "cell_type": "code",
   "execution_count": 73,
   "id": "bf91c102",
   "metadata": {},
   "outputs": [],
   "source": [
    "def show_reconstruction(model, dataset, device):\n",
    "    model.eval()  # encoder & decoder both fine in eval when using GroupNorm\n",
    "\n",
    "    # inverse of Normalize((0.5,0.5,0.5), (0.5,0.5,0.5))\n",
    "    denorm = lambda t: t * 0.5 + 0.5   # [-1,1] → [0,1]\n",
    "\n",
    "    # pick a random CIFAR‑sample\n",
    "    idx = torch.randint(0, len(dataset), ()).item()\n",
    "    x, _ = dataset[idx]          # tensor in [-1,1]\n",
    "    x = x.unsqueeze(0).to(device)\n",
    "\n",
    "    with torch.no_grad():\n",
    "        x_hat, _, _ = model(x)   # forward pass\n",
    "\n",
    "    # prepare for display\n",
    "    x_vis     = denorm(x.squeeze().cpu())       # (C,H,W) → [0,1]\n",
    "    x_hat_vis = denorm(x_hat.squeeze().cpu())\n",
    "\n",
    "    # plot\n",
    "    fig, ax = plt.subplots(1, 2, figsize=(6, 3))\n",
    "    ax[0].imshow(x_vis.permute(1, 2, 0));     ax[0].set_title('Original');       ax[0].axis('off')\n",
    "    ax[1].imshow(x_hat_vis.permute(1, 2, 0)); ax[1].set_title('Reconstruction'); ax[1].axis('off')\n",
    "    plt.tight_layout();  plt.show()"
   ]
  },
  {
   "cell_type": "code",
   "execution_count": 90,
   "id": "d03c776f",
   "metadata": {},
   "outputs": [
    {
     "data": {
      "image/png": "[encoded data removed]",
      "text/plain": [
       "<Figure size 600x300 with 2 Axes>"
      ]
     },
     "metadata": {},
     "output_type": "display_data"
    }
   ],
   "source": [
    "show_reconstruction(model, train_dataset, device)"
   ]
  },
  {
   "cell_type": "markdown",
   "id": "c440ce3d",
   "metadata": {},
   "source": [
    "I added a layer to the decoder, upped the latent dim size to 256, and added a gamma schedule to the kl term, and got really good results!"
   ]
  },
  {
   "cell_type": "markdown",
   "id": "48d18553",
   "metadata": {},
   "source": [
    "Save our model"
   ]
  },
  {
   "cell_type": "code",
   "execution_count": 94,
   "id": "b92a02f3",
   "metadata": {},
   "outputs": [],
   "source": [
    "import os\n",
    "\n",
    "def save_checkpoint(model, optimizer, epoch, loss, path):\n",
    "    ckpt = {\n",
    "        \"epoch\": epoch,                 # current epoch\n",
    "        \"loss\" : loss,                  # last epoch’s loss (optional)\n",
    "        \"model_state\": model.state_dict(),\n",
    "        \"optim_state\": optimizer.state_dict(),\n",
    "    }\n",
    "    os.makedirs(os.path.dirname(path), exist_ok=True)\n",
    "    torch.save(ckpt, path)\n",
    "\n",
    "# example usage inside your training loop:\n",
    "save_checkpoint(model, opt_ae, 60, ae_losses[59],\n",
    "                path=f\"checkpoints/vae_e{epoch:03d}.pt\")\n",
    "                "
   ]
  }
 ],
 "metadata": {
  "kernelspec": {
   "display_name": "Python 3",
   "language": "python",
   "name": "python3"
  },
  "language_info": {
   "codemirror_mode": {
    "name": "ipython",
    "version": 3
   },
   "file_extension": ".py",
   "mimetype": "text/x-python",
   "name": "python",
   "nbconvert_exporter": "python",
   "pygments_lexer": "ipython3",
   "version": "3.10.11"
  }
 },
 "nbformat": 4,
 "nbformat_minor": 5
}
